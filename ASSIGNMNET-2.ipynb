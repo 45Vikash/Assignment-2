{
 "cells": [
  {
   "cell_type": "code",
   "execution_count": 1,
   "id": "3070cd1b",
   "metadata": {},
   "outputs": [
    {
     "name": "stdout",
     "output_type": "stream",
     "text": [
      "Requirement already satisfied: selenium in c:\\programdata\\anaconda3\\lib\\site-packages (4.2.0)\n",
      "Requirement already satisfied: urllib3[secure,socks]~=1.26 in c:\\programdata\\anaconda3\\lib\\site-packages (from selenium) (1.26.7)\n",
      "Requirement already satisfied: trio~=0.17 in c:\\programdata\\anaconda3\\lib\\site-packages (from selenium) (0.21.0)\n",
      "Requirement already satisfied: trio-websocket~=0.9 in c:\\programdata\\anaconda3\\lib\\site-packages (from selenium) (0.9.2)\n",
      "Requirement already satisfied: attrs>=19.2.0 in c:\\programdata\\anaconda3\\lib\\site-packages (from trio~=0.17->selenium) (21.2.0)\n",
      "Requirement already satisfied: idna in c:\\programdata\\anaconda3\\lib\\site-packages (from trio~=0.17->selenium) (3.2)\n",
      "Requirement already satisfied: sortedcontainers in c:\\programdata\\anaconda3\\lib\\site-packages (from trio~=0.17->selenium) (2.4.0)\n",
      "Requirement already satisfied: cffi>=1.14 in c:\\programdata\\anaconda3\\lib\\site-packages (from trio~=0.17->selenium) (1.14.6)\n",
      "Requirement already satisfied: async-generator>=1.9 in c:\\programdata\\anaconda3\\lib\\site-packages (from trio~=0.17->selenium) (1.10)\n",
      "Requirement already satisfied: sniffio in c:\\programdata\\anaconda3\\lib\\site-packages (from trio~=0.17->selenium) (1.2.0)\n",
      "Requirement already satisfied: outcome in c:\\programdata\\anaconda3\\lib\\site-packages (from trio~=0.17->selenium) (1.2.0)\n",
      "Requirement already satisfied: pycparser in c:\\programdata\\anaconda3\\lib\\site-packages (from cffi>=1.14->trio~=0.17->selenium) (2.20)\n",
      "Requirement already satisfied: wsproto>=0.14 in c:\\programdata\\anaconda3\\lib\\site-packages (from trio-websocket~=0.9->selenium) (1.1.0)\n",
      "Requirement already satisfied: pyOpenSSL>=0.14 in c:\\programdata\\anaconda3\\lib\\site-packages (from urllib3[secure,socks]~=1.26->selenium) (21.0.0)\n",
      "Requirement already satisfied: cryptography>=1.3.4 in c:\\programdata\\anaconda3\\lib\\site-packages (from urllib3[secure,socks]~=1.26->selenium) (3.4.8)\n",
      "Requirement already satisfied: certifi in c:\\programdata\\anaconda3\\lib\\site-packages (from urllib3[secure,socks]~=1.26->selenium) (2021.10.8)\n",
      "Requirement already satisfied: PySocks!=1.5.7,<2.0,>=1.5.6 in c:\\programdata\\anaconda3\\lib\\site-packages (from urllib3[secure,socks]~=1.26->selenium) (1.7.1)\n",
      "Requirement already satisfied: six>=1.5.2 in c:\\programdata\\anaconda3\\lib\\site-packages (from pyOpenSSL>=0.14->urllib3[secure,socks]~=1.26->selenium) (1.16.0)\n",
      "Requirement already satisfied: h11<1,>=0.9.0 in c:\\programdata\\anaconda3\\lib\\site-packages (from wsproto>=0.14->trio-websocket~=0.9->selenium) (0.13.0)\n"
     ]
    }
   ],
   "source": [
    "#lests first install the selenium library\n",
    "!pip install selenium"
   ]
  },
  {
   "cell_type": "code",
   "execution_count": 2,
   "id": "2a27fdcd",
   "metadata": {},
   "outputs": [],
   "source": [
    "import selenium # to use selenium library\n",
    "import pandas as pd # install pandas library for DataFrame\n",
    "from selenium import webdriver # to open with automated chrome window\n",
    "import warnings \n",
    "warnings.filterwarnings('ignore') # to ingnore any sort of warnings\n",
    "import time # use to stop search engine for few seconds"
   ]
  },
  {
   "cell_type": "code",
   "execution_count": 4,
   "id": "54a2b40e",
   "metadata": {},
   "outputs": [],
   "source": [
    "# lets first connect to the web driver\n",
    "driver=webdriver.Chrome(r\"C:\\Users\\Vikash_info\\chromedriver.exe\")"
   ]
  },
  {
   "cell_type": "code",
   "execution_count": 5,
   "id": "e967e589",
   "metadata": {},
   "outputs": [],
   "source": [
    "driver=webdriver.Chrome('chromedriver.exe')\n",
    "time.sleep(2)"
   ]
  },
  {
   "cell_type": "code",
   "execution_count": 6,
   "id": "48907361",
   "metadata": {},
   "outputs": [],
   "source": [
    "#scarping up naukri.com on automated web drive\n",
    "driver.get(\"https://www.naukri.com/\")"
   ]
  },
  {
   "cell_type": "code",
   "execution_count": 7,
   "id": "e1472a04",
   "metadata": {},
   "outputs": [],
   "source": [
    "# finding element job search for\n",
    "search_field_designation=driver.find_element_by_class_name('suggestor-input') #job search for\n",
    "search_field_designation.send_keys('Data Analyst')"
   ]
  },
  {
   "cell_type": "code",
   "execution_count": 8,
   "id": "4e00a366",
   "metadata": {},
   "outputs": [],
   "source": [
    "# entering location delhi in loaction search for\n",
    "search_field_loc=driver.find_element_by_class_name('suggestor-input') #job search for\n",
    "search_field_loc.send_keys('Banglore')"
   ]
  },
  {
   "cell_type": "code",
   "execution_count": 9,
   "id": "6baddd2e",
   "metadata": {},
   "outputs": [],
   "source": [
    "search_button=driver.find_element_by_xpath(\"/html/body/div[1]/div[2]/div[3]/div/div/div[6]\")\n",
    "search_button.click()"
   ]
  },
  {
   "cell_type": "code",
   "execution_count": 10,
   "id": "8b17f995",
   "metadata": {},
   "outputs": [],
   "source": [
    "job_titles=[]\n",
    "company_names=[]\n",
    "location_lists=[]"
   ]
  },
  {
   "cell_type": "code",
   "execution_count": 11,
   "id": "9f7fd434",
   "metadata": {},
   "outputs": [
    {
     "data": {
      "text/plain": [
       "[<selenium.webdriver.remote.webelement.WebElement (session=\"88b5e5066b401099600a5c3585646f62\", element=\"4c200d09-ec3b-41c7-8962-428b890ea60a\")>,\n",
       " <selenium.webdriver.remote.webelement.WebElement (session=\"88b5e5066b401099600a5c3585646f62\", element=\"6dfd8a84-8d35-45fd-ba02-c6000fc2af45\")>,\n",
       " <selenium.webdriver.remote.webelement.WebElement (session=\"88b5e5066b401099600a5c3585646f62\", element=\"c08752ad-2dca-4312-9339-09438e5a36dc\")>,\n",
       " <selenium.webdriver.remote.webelement.WebElement (session=\"88b5e5066b401099600a5c3585646f62\", element=\"351eb2ea-cc36-4251-8cb1-17a5f734d2e3\")>,\n",
       " <selenium.webdriver.remote.webelement.WebElement (session=\"88b5e5066b401099600a5c3585646f62\", element=\"2849716f-464d-4c2b-b012-9dcdff6a6aff\")>,\n",
       " <selenium.webdriver.remote.webelement.WebElement (session=\"88b5e5066b401099600a5c3585646f62\", element=\"9097e37e-f024-498d-9e7e-b32c8cc239f5\")>,\n",
       " <selenium.webdriver.remote.webelement.WebElement (session=\"88b5e5066b401099600a5c3585646f62\", element=\"590c0987-0c9b-4e73-8a03-9de858e99986\")>,\n",
       " <selenium.webdriver.remote.webelement.WebElement (session=\"88b5e5066b401099600a5c3585646f62\", element=\"28e00f3c-874b-404e-8675-327de69d09f4\")>,\n",
       " <selenium.webdriver.remote.webelement.WebElement (session=\"88b5e5066b401099600a5c3585646f62\", element=\"c4b63f62-2dd0-4ddb-9aba-c10717a4d4dc\")>,\n",
       " <selenium.webdriver.remote.webelement.WebElement (session=\"88b5e5066b401099600a5c3585646f62\", element=\"c94e45f3-5f33-4761-a159-f94b4a83551e\")>]"
      ]
     },
     "execution_count": 11,
     "metadata": {},
     "output_type": "execute_result"
    }
   ],
   "source": [
    "#so lets extract all tags having the job titles\n",
    "titles_tags=driver.find_elements_by_xpath(\"//a[@class='title fw500 ellipsis']\")\n",
    "titles_tags[0:10]"
   ]
  },
  {
   "cell_type": "code",
   "execution_count": 12,
   "id": "ff49a733",
   "metadata": {},
   "outputs": [
    {
     "data": {
      "text/plain": [
       "['Data Analyst I',\n",
       " 'Data Science / Data Engineer / Business Analyst / Full Stack Developer',\n",
       " 'Sr.Business Data Analyst',\n",
       " 'Sr Data Analyst',\n",
       " 'Data Analyst / Business analyst - US MNC (analytics)',\n",
       " 'Junior Data Analyst',\n",
       " 'Senior Data Analysis Analyst',\n",
       " 'Data Analyst',\n",
       " 'Data Analyst',\n",
       " 'Senior Data Analyst']"
      ]
     },
     "execution_count": 12,
     "metadata": {},
     "output_type": "execute_result"
    }
   ],
   "source": [
    "#we run a loop extracted over the tags\n",
    "for i in titles_tags:        #iterating over web element of title\n",
    "    title=i.text             #extracting text from web each element\n",
    "    job_titles.append(title) # appending each extected text into empty list\n",
    "job_titles[0:10]  #printing top 10 job titles"
   ]
  },
  {
   "cell_type": "code",
   "execution_count": 13,
   "id": "fc693ced",
   "metadata": {},
   "outputs": [
    {
     "data": {
      "text/plain": [
       "[<selenium.webdriver.remote.webelement.WebElement (session=\"88b5e5066b401099600a5c3585646f62\", element=\"7d309434-3c6f-4dc4-b39e-dc06d41c5963\")>,\n",
       " <selenium.webdriver.remote.webelement.WebElement (session=\"88b5e5066b401099600a5c3585646f62\", element=\"01ea71e7-327e-4e46-8a28-4065e1aec159\")>,\n",
       " <selenium.webdriver.remote.webelement.WebElement (session=\"88b5e5066b401099600a5c3585646f62\", element=\"14dc1896-67b4-41b5-a6e8-c31fdabbcaf3\")>,\n",
       " <selenium.webdriver.remote.webelement.WebElement (session=\"88b5e5066b401099600a5c3585646f62\", element=\"e4bc99ac-225f-40bb-9ef2-03a05a23d63b\")>,\n",
       " <selenium.webdriver.remote.webelement.WebElement (session=\"88b5e5066b401099600a5c3585646f62\", element=\"9577daa5-89fe-4234-beca-6488dd2ec2a0\")>,\n",
       " <selenium.webdriver.remote.webelement.WebElement (session=\"88b5e5066b401099600a5c3585646f62\", element=\"697e08d4-87ab-44bf-807e-d402b453213d\")>,\n",
       " <selenium.webdriver.remote.webelement.WebElement (session=\"88b5e5066b401099600a5c3585646f62\", element=\"fe0a59f7-a257-470f-80dd-8dcfaf70b3fa\")>,\n",
       " <selenium.webdriver.remote.webelement.WebElement (session=\"88b5e5066b401099600a5c3585646f62\", element=\"40597e55-b5c4-45df-a81b-250feadaa3a0\")>,\n",
       " <selenium.webdriver.remote.webelement.WebElement (session=\"88b5e5066b401099600a5c3585646f62\", element=\"28a02535-cad3-44c5-b0e3-f02b9de5ccc9\")>,\n",
       " <selenium.webdriver.remote.webelement.WebElement (session=\"88b5e5066b401099600a5c3585646f62\", element=\"54b3520a-3a3b-45cc-a1dd-be0c78feadee\")>]"
      ]
     },
     "execution_count": 13,
     "metadata": {},
     "output_type": "execute_result"
    }
   ],
   "source": [
    "# now let me extract all the tags having company names\n",
    "companies_tags=driver.find_elements_by_xpath(\"//a[@class='subTitle ellipsis fleft']\")\n",
    "companies_tags[0:10]"
   ]
  },
  {
   "cell_type": "code",
   "execution_count": 14,
   "id": "487b1578",
   "metadata": {},
   "outputs": [
    {
     "data": {
      "text/plain": [
       "['Cerner',\n",
       " 'NETWORTH DATA PRODUCTS PRIVATE LIMITED',\n",
       " 'Collabera',\n",
       " 'Thomson Reuters',\n",
       " 'Aspyra HR Services',\n",
       " 'ICF Next',\n",
       " 'Capco',\n",
       " 'Everest Fleet Pvt. Ltd.',\n",
       " 'Thomson Reuters',\n",
       " 'Hudsons bay Company (HBC)']"
      ]
     },
     "execution_count": 14,
     "metadata": {},
     "output_type": "execute_result"
    }
   ],
   "source": [
    "for i in companies_tags:  #iterating over web element of company\n",
    "    company_name=i.text   #extracting text from web each element\n",
    "    company_names.append(company_name)   #appending each extected text into empty list\n",
    "company_names[0:10]  #printing top 10 company names"
   ]
  },
  {
   "cell_type": "code",
   "execution_count": 15,
   "id": "6c21b994",
   "metadata": {},
   "outputs": [
    {
     "data": {
      "text/plain": [
       "[<selenium.webdriver.remote.webelement.WebElement (session=\"88b5e5066b401099600a5c3585646f62\", element=\"f73619e1-dff6-4c30-92d9-ac1e7dc76ee7\")>,\n",
       " <selenium.webdriver.remote.webelement.WebElement (session=\"88b5e5066b401099600a5c3585646f62\", element=\"baa66c95-a690-48b4-941b-4c46214e4ec6\")>,\n",
       " <selenium.webdriver.remote.webelement.WebElement (session=\"88b5e5066b401099600a5c3585646f62\", element=\"44b02551-bcca-4bdc-8993-0df14168bd39\")>,\n",
       " <selenium.webdriver.remote.webelement.WebElement (session=\"88b5e5066b401099600a5c3585646f62\", element=\"37d7db31-4b36-4cc6-8ea6-bfb18876b588\")>,\n",
       " <selenium.webdriver.remote.webelement.WebElement (session=\"88b5e5066b401099600a5c3585646f62\", element=\"9923995b-350b-41eb-8829-37cb2f09b4b9\")>,\n",
       " <selenium.webdriver.remote.webelement.WebElement (session=\"88b5e5066b401099600a5c3585646f62\", element=\"803e6d3d-855a-4319-b3ac-219749f1211e\")>,\n",
       " <selenium.webdriver.remote.webelement.WebElement (session=\"88b5e5066b401099600a5c3585646f62\", element=\"0104510f-4ce3-4f4c-9e07-e045adee5b37\")>,\n",
       " <selenium.webdriver.remote.webelement.WebElement (session=\"88b5e5066b401099600a5c3585646f62\", element=\"72c9a001-1d8c-476e-954c-e95087983a6e\")>,\n",
       " <selenium.webdriver.remote.webelement.WebElement (session=\"88b5e5066b401099600a5c3585646f62\", element=\"dfa3461b-326a-46dc-804c-cf6fdd0cd09e\")>,\n",
       " <selenium.webdriver.remote.webelement.WebElement (session=\"88b5e5066b401099600a5c3585646f62\", element=\"ca994c78-4d0f-4939-94cc-ab0b6e3ce0fb\")>]"
      ]
     },
     "execution_count": 15,
     "metadata": {},
     "output_type": "execute_result"
    }
   ],
   "source": [
    "# now lets  extract all the tags having location lists\n",
    "locations_tags=driver.find_elements_by_xpath(\"//li[@class='fleft grey-text br2 placeHolderLi location']/span[1]\")\n",
    "locations_tags[0:10]"
   ]
  },
  {
   "cell_type": "code",
   "execution_count": 16,
   "id": "88c05991",
   "metadata": {},
   "outputs": [
    {
     "data": {
      "text/plain": [
       "['Bangalore/Bengaluru',\n",
       " 'Bangalore/Bengaluru',\n",
       " 'Bangalore/Bengaluru, karnataka',\n",
       " 'Bangalore/Bengaluru',\n",
       " 'Gurgaon/Gurugram, Bangalore/Bengaluru, Delhi / NCR',\n",
       " 'New Delhi, Bangalore/Bengaluru',\n",
       " 'Pune, Chennai, Bangalore/Bengaluru',\n",
       " 'Kolkata, Thane, Hyderabad/Secunderabad, Bangalore/Bengaluru, Delhi / NCR',\n",
       " 'Bangalore/Bengaluru',\n",
       " 'Bangalore/Bengaluru']"
      ]
     },
     "execution_count": 16,
     "metadata": {},
     "output_type": "execute_result"
    }
   ],
   "source": [
    "for i in locations_tags:  #iterating over web element of location\n",
    "    location=i.text       #extracting text web of each element\n",
    "    location_lists.append(location) # appending each extracted text into empty list\n",
    "location_lists[0:10]"
   ]
  },
  {
   "cell_type": "code",
   "execution_count": 17,
   "id": "1c14bef9",
   "metadata": {},
   "outputs": [
    {
     "name": "stdout",
     "output_type": "stream",
     "text": [
      "20 20 20\n"
     ]
    }
   ],
   "source": [
    "print(len(job_titles),len(company_names),len(location_lists))"
   ]
  },
  {
   "cell_type": "code",
   "execution_count": 18,
   "id": "5ca19758",
   "metadata": {},
   "outputs": [
    {
     "data": {
      "text/html": [
       "<div>\n",
       "<style scoped>\n",
       "    .dataframe tbody tr th:only-of-type {\n",
       "        vertical-align: middle;\n",
       "    }\n",
       "\n",
       "    .dataframe tbody tr th {\n",
       "        vertical-align: top;\n",
       "    }\n",
       "\n",
       "    .dataframe thead th {\n",
       "        text-align: right;\n",
       "    }\n",
       "</style>\n",
       "<table border=\"1\" class=\"dataframe\">\n",
       "  <thead>\n",
       "    <tr style=\"text-align: right;\">\n",
       "      <th></th>\n",
       "      <th>Job_titles</th>\n",
       "      <th>Company_names</th>\n",
       "      <th>location_lists</th>\n",
       "    </tr>\n",
       "  </thead>\n",
       "  <tbody>\n",
       "    <tr>\n",
       "      <th>0</th>\n",
       "      <td>Data Analyst I</td>\n",
       "      <td>Cerner</td>\n",
       "      <td>Bangalore/Bengaluru</td>\n",
       "    </tr>\n",
       "    <tr>\n",
       "      <th>1</th>\n",
       "      <td>Data Science / Data Engineer / Business Analys...</td>\n",
       "      <td>NETWORTH DATA PRODUCTS PRIVATE LIMITED</td>\n",
       "      <td>Bangalore/Bengaluru</td>\n",
       "    </tr>\n",
       "    <tr>\n",
       "      <th>2</th>\n",
       "      <td>Sr.Business Data Analyst</td>\n",
       "      <td>Collabera</td>\n",
       "      <td>Bangalore/Bengaluru, karnataka</td>\n",
       "    </tr>\n",
       "    <tr>\n",
       "      <th>3</th>\n",
       "      <td>Sr Data Analyst</td>\n",
       "      <td>Thomson Reuters</td>\n",
       "      <td>Bangalore/Bengaluru</td>\n",
       "    </tr>\n",
       "    <tr>\n",
       "      <th>4</th>\n",
       "      <td>Data Analyst / Business analyst - US MNC (anal...</td>\n",
       "      <td>Aspyra HR Services</td>\n",
       "      <td>Gurgaon/Gurugram, Bangalore/Bengaluru, Delhi /...</td>\n",
       "    </tr>\n",
       "    <tr>\n",
       "      <th>5</th>\n",
       "      <td>Junior Data Analyst</td>\n",
       "      <td>ICF Next</td>\n",
       "      <td>New Delhi, Bangalore/Bengaluru</td>\n",
       "    </tr>\n",
       "    <tr>\n",
       "      <th>6</th>\n",
       "      <td>Senior Data Analysis Analyst</td>\n",
       "      <td>Capco</td>\n",
       "      <td>Pune, Chennai, Bangalore/Bengaluru</td>\n",
       "    </tr>\n",
       "    <tr>\n",
       "      <th>7</th>\n",
       "      <td>Data Analyst</td>\n",
       "      <td>Everest Fleet Pvt. Ltd.</td>\n",
       "      <td>Kolkata, Thane, Hyderabad/Secunderabad, Bangal...</td>\n",
       "    </tr>\n",
       "    <tr>\n",
       "      <th>8</th>\n",
       "      <td>Data Analyst</td>\n",
       "      <td>Thomson Reuters</td>\n",
       "      <td>Bangalore/Bengaluru</td>\n",
       "    </tr>\n",
       "    <tr>\n",
       "      <th>9</th>\n",
       "      <td>Senior Data Analyst</td>\n",
       "      <td>Hudsons bay Company (HBC)</td>\n",
       "      <td>Bangalore/Bengaluru</td>\n",
       "    </tr>\n",
       "    <tr>\n",
       "      <th>10</th>\n",
       "      <td>Senior Data Analyst</td>\n",
       "      <td>KrazyBee</td>\n",
       "      <td>Bangalore/Bengaluru(Old Madras Road)</td>\n",
       "    </tr>\n",
       "    <tr>\n",
       "      <th>11</th>\n",
       "      <td>Master Data Management Business Analyst</td>\n",
       "      <td>Accenture</td>\n",
       "      <td>Bangalore/Bengaluru</td>\n",
       "    </tr>\n",
       "    <tr>\n",
       "      <th>12</th>\n",
       "      <td>Data Analyst - IIM/ISB/MDI/FMS/SP Jain</td>\n",
       "      <td>K12 Techno Services Pvt Ltd</td>\n",
       "      <td>Bangalore/Bengaluru</td>\n",
       "    </tr>\n",
       "    <tr>\n",
       "      <th>13</th>\n",
       "      <td>Business Analyst/Data Analyst</td>\n",
       "      <td>Telamon HR Solutions</td>\n",
       "      <td>Hyderabad/Secunderabad, Bangalore/Bengaluru, D...</td>\n",
       "    </tr>\n",
       "    <tr>\n",
       "      <th>14</th>\n",
       "      <td>Hiring For Data Analyst</td>\n",
       "      <td>Flipkart</td>\n",
       "      <td>Bangalore/Bengaluru</td>\n",
       "    </tr>\n",
       "    <tr>\n",
       "      <th>15</th>\n",
       "      <td>Data Analyst</td>\n",
       "      <td>Wipro</td>\n",
       "      <td>Noida, Hyderabad/Secunderabad, Gurgaon/Gurugra...</td>\n",
       "    </tr>\n",
       "    <tr>\n",
       "      <th>16</th>\n",
       "      <td>Associate Data Analyst</td>\n",
       "      <td>Optum</td>\n",
       "      <td>Bangalore/Bengaluru</td>\n",
       "    </tr>\n",
       "    <tr>\n",
       "      <th>17</th>\n",
       "      <td>Associate Data Analyst</td>\n",
       "      <td>Optum</td>\n",
       "      <td>Bangalore/Bengaluru</td>\n",
       "    </tr>\n",
       "    <tr>\n",
       "      <th>18</th>\n",
       "      <td>Senior Data Analyst II</td>\n",
       "      <td>Flipkart</td>\n",
       "      <td>Bangalore/Bengaluru</td>\n",
       "    </tr>\n",
       "    <tr>\n",
       "      <th>19</th>\n",
       "      <td>Financial Data Analyst</td>\n",
       "      <td>Nuance India</td>\n",
       "      <td>Bangalore/Bengaluru</td>\n",
       "    </tr>\n",
       "  </tbody>\n",
       "</table>\n",
       "</div>"
      ],
      "text/plain": [
       "                                           Job_titles  \\\n",
       "0                                      Data Analyst I   \n",
       "1   Data Science / Data Engineer / Business Analys...   \n",
       "2                            Sr.Business Data Analyst   \n",
       "3                                     Sr Data Analyst   \n",
       "4   Data Analyst / Business analyst - US MNC (anal...   \n",
       "5                                 Junior Data Analyst   \n",
       "6                        Senior Data Analysis Analyst   \n",
       "7                                        Data Analyst   \n",
       "8                                        Data Analyst   \n",
       "9                                 Senior Data Analyst   \n",
       "10                                Senior Data Analyst   \n",
       "11            Master Data Management Business Analyst   \n",
       "12             Data Analyst - IIM/ISB/MDI/FMS/SP Jain   \n",
       "13                      Business Analyst/Data Analyst   \n",
       "14                            Hiring For Data Analyst   \n",
       "15                                       Data Analyst   \n",
       "16                             Associate Data Analyst   \n",
       "17                             Associate Data Analyst   \n",
       "18                             Senior Data Analyst II   \n",
       "19                             Financial Data Analyst   \n",
       "\n",
       "                             Company_names  \\\n",
       "0                                   Cerner   \n",
       "1   NETWORTH DATA PRODUCTS PRIVATE LIMITED   \n",
       "2                                Collabera   \n",
       "3                          Thomson Reuters   \n",
       "4                       Aspyra HR Services   \n",
       "5                                 ICF Next   \n",
       "6                                    Capco   \n",
       "7                  Everest Fleet Pvt. Ltd.   \n",
       "8                          Thomson Reuters   \n",
       "9                Hudsons bay Company (HBC)   \n",
       "10                                KrazyBee   \n",
       "11                               Accenture   \n",
       "12             K12 Techno Services Pvt Ltd   \n",
       "13                    Telamon HR Solutions   \n",
       "14                                Flipkart   \n",
       "15                                   Wipro   \n",
       "16                                   Optum   \n",
       "17                                   Optum   \n",
       "18                                Flipkart   \n",
       "19                            Nuance India   \n",
       "\n",
       "                                       location_lists  \n",
       "0                                 Bangalore/Bengaluru  \n",
       "1                                 Bangalore/Bengaluru  \n",
       "2                      Bangalore/Bengaluru, karnataka  \n",
       "3                                 Bangalore/Bengaluru  \n",
       "4   Gurgaon/Gurugram, Bangalore/Bengaluru, Delhi /...  \n",
       "5                      New Delhi, Bangalore/Bengaluru  \n",
       "6                  Pune, Chennai, Bangalore/Bengaluru  \n",
       "7   Kolkata, Thane, Hyderabad/Secunderabad, Bangal...  \n",
       "8                                 Bangalore/Bengaluru  \n",
       "9                                 Bangalore/Bengaluru  \n",
       "10               Bangalore/Bengaluru(Old Madras Road)  \n",
       "11                                Bangalore/Bengaluru  \n",
       "12                                Bangalore/Bengaluru  \n",
       "13  Hyderabad/Secunderabad, Bangalore/Bengaluru, D...  \n",
       "14                                Bangalore/Bengaluru  \n",
       "15  Noida, Hyderabad/Secunderabad, Gurgaon/Gurugra...  \n",
       "16                                Bangalore/Bengaluru  \n",
       "17                                Bangalore/Bengaluru  \n",
       "18                                Bangalore/Bengaluru  \n",
       "19                                Bangalore/Bengaluru  "
      ]
     },
     "execution_count": 18,
     "metadata": {},
     "output_type": "execute_result"
    }
   ],
   "source": [
    "# now make a Data frame\n",
    "df=pd.DataFrame({'Job_titles':job_titles,'Company_names':company_names,'location_lists':location_lists})\n",
    "df"
   ]
  },
  {
   "cell_type": "code",
   "execution_count": null,
   "id": "39ca8547",
   "metadata": {},
   "outputs": [],
   "source": [
    "# Question no -2"
   ]
  },
  {
   "cell_type": "code",
   "execution_count": 26,
   "id": "1e0c0465",
   "metadata": {},
   "outputs": [],
   "source": [
    "#lets connect to web driver\n",
    "driver=webdriver.Chrome(r\"C:\\Users\\Vikash_info\\chromedriver.exe\")"
   ]
  },
  {
   "cell_type": "code",
   "execution_count": 27,
   "id": "11244921",
   "metadata": {},
   "outputs": [],
   "source": [
    "driver=webdriver.Chrome(\"chromedriver.exe\")\n",
    "time.sleep(2)"
   ]
  },
  {
   "cell_type": "code",
   "execution_count": 28,
   "id": "d2a80423",
   "metadata": {},
   "outputs": [],
   "source": [
    "#lets scraping up naukari.com with automated web driver\n",
    "driver.get(\"https://www.naukri.com/\")"
   ]
  },
  {
   "cell_type": "code",
   "execution_count": 29,
   "id": "6d9da20f",
   "metadata": {},
   "outputs": [],
   "source": [
    "#finding element job search for\n",
    "search_field_designation=driver.find_element_by_class_name(\"suggestor-input \") # job search for\n",
    "search_field_designation.send_keys('Data Scientist')"
   ]
  },
  {
   "cell_type": "code",
   "execution_count": 31,
   "id": "77fca9df",
   "metadata": {},
   "outputs": [],
   "source": [
    "# entering job location for Banglore location\n",
    "search_field_loc=driver.find_element_by_class_name(\"suggestor-input\") #job search for\n",
    "search_field_loc.send_keys(\"Banglore\")"
   ]
  },
  {
   "cell_type": "code",
   "execution_count": 32,
   "id": "0c1b8ef8",
   "metadata": {},
   "outputs": [],
   "source": [
    "search_button=driver.find_element_by_xpath(\"/html/body/div[1]/div[2]/div[3]/div/div/div[6]\")\n",
    "search_button.click()"
   ]
  },
  {
   "cell_type": "code",
   "execution_count": 33,
   "id": "0b64ef7a",
   "metadata": {},
   "outputs": [],
   "source": [
    "jobs_titles=[]\n",
    "company_names=[]\n",
    "location_lists=[]"
   ]
  },
  {
   "cell_type": "code",
   "execution_count": 34,
   "id": "4f1c32d6",
   "metadata": {},
   "outputs": [
    {
     "data": {
      "text/plain": [
       "[<selenium.webdriver.remote.webelement.WebElement (session=\"bd648288c4e5f3c88471b13ae4ee0382\", element=\"fa41ebf5-5723-4d56-9a56-cb0e3fbbedf8\")>,\n",
       " <selenium.webdriver.remote.webelement.WebElement (session=\"bd648288c4e5f3c88471b13ae4ee0382\", element=\"af197a1f-d338-402f-802a-af50ad5e235b\")>,\n",
       " <selenium.webdriver.remote.webelement.WebElement (session=\"bd648288c4e5f3c88471b13ae4ee0382\", element=\"a56d5621-12a8-4e88-82de-eec7e175b323\")>,\n",
       " <selenium.webdriver.remote.webelement.WebElement (session=\"bd648288c4e5f3c88471b13ae4ee0382\", element=\"83556994-aa35-4bc7-896d-dbd336c0a8f9\")>,\n",
       " <selenium.webdriver.remote.webelement.WebElement (session=\"bd648288c4e5f3c88471b13ae4ee0382\", element=\"cdce4cfb-fef8-4bd7-9589-8185bc21433b\")>,\n",
       " <selenium.webdriver.remote.webelement.WebElement (session=\"bd648288c4e5f3c88471b13ae4ee0382\", element=\"cf571734-ec8f-4e26-902e-2eb1b6e9ba0a\")>,\n",
       " <selenium.webdriver.remote.webelement.WebElement (session=\"bd648288c4e5f3c88471b13ae4ee0382\", element=\"ec42fcaa-e546-4261-aae1-96ba7c0a38ce\")>,\n",
       " <selenium.webdriver.remote.webelement.WebElement (session=\"bd648288c4e5f3c88471b13ae4ee0382\", element=\"77ecaa74-cd5f-4253-8490-324aa4a57dce\")>,\n",
       " <selenium.webdriver.remote.webelement.WebElement (session=\"bd648288c4e5f3c88471b13ae4ee0382\", element=\"607ba1fd-9bb6-4d78-845d-69b30d6c1e12\")>,\n",
       " <selenium.webdriver.remote.webelement.WebElement (session=\"bd648288c4e5f3c88471b13ae4ee0382\", element=\"8e580f77-2178-4e6c-b1db-154efd29f659\")>]"
      ]
     },
     "execution_count": 34,
     "metadata": {},
     "output_type": "execute_result"
    }
   ],
   "source": [
    "#start to extract tags having job titles  \n",
    "titles_tags=driver.find_elements_by_xpath(\"//a[@class='title fw500 ellipsis']\")\n",
    "titles_tags[0:10]"
   ]
  },
  {
   "cell_type": "code",
   "execution_count": 35,
   "id": "3441fd32",
   "metadata": {},
   "outputs": [
    {
     "data": {
      "text/plain": [
       "['Urgent Job Opening For AI Practitioner - Data Science at Wipro Holmes',\n",
       " 'Hiring For Senior Data Scientist',\n",
       " 'Senior Data Scientist',\n",
       " 'Dataiku Consultant',\n",
       " 'Research and Development -AI/ML -(PhD )',\n",
       " 'Opportunity For Data Scientist - Female Candidates ONLY',\n",
       " 'Senior Data Science Engineer',\n",
       " 'Data Science - Engineering Manager',\n",
       " 'Data Scientist',\n",
       " 'Data & Analytics Tech - Informatica Cloud- Senior Associate']"
      ]
     },
     "execution_count": 35,
     "metadata": {},
     "output_type": "execute_result"
    }
   ],
   "source": [
    "#we run a loop extracted over the tags\n",
    "for i in titles_tags: ##iterating over web element of tiles\n",
    "    job_title=i.text   #extracting text from web each element\n",
    "    jobs_titles.append(job_title) #appending each extracted text into empty list\n",
    "    \n",
    "jobs_titles[0:10]    #printing top 10 job titles"
   ]
  },
  {
   "cell_type": "code",
   "execution_count": 36,
   "id": "838e7820",
   "metadata": {},
   "outputs": [
    {
     "data": {
      "text/plain": [
       "[<selenium.webdriver.remote.webelement.WebElement (session=\"bd648288c4e5f3c88471b13ae4ee0382\", element=\"8143d2f0-816e-4cad-bd1a-860f7da48dc2\")>,\n",
       " <selenium.webdriver.remote.webelement.WebElement (session=\"bd648288c4e5f3c88471b13ae4ee0382\", element=\"75ec8dfb-fc8f-4658-a0b4-b0689673872c\")>,\n",
       " <selenium.webdriver.remote.webelement.WebElement (session=\"bd648288c4e5f3c88471b13ae4ee0382\", element=\"14221c05-42e0-491c-9004-e49a152c863c\")>,\n",
       " <selenium.webdriver.remote.webelement.WebElement (session=\"bd648288c4e5f3c88471b13ae4ee0382\", element=\"48abb07e-8992-4df0-8f19-a8d5cc5ec56b\")>,\n",
       " <selenium.webdriver.remote.webelement.WebElement (session=\"bd648288c4e5f3c88471b13ae4ee0382\", element=\"108addd1-e7a8-42b0-86eb-7c61be92ec2e\")>,\n",
       " <selenium.webdriver.remote.webelement.WebElement (session=\"bd648288c4e5f3c88471b13ae4ee0382\", element=\"b45da4b4-4050-47ad-8fd6-34c13960eb54\")>,\n",
       " <selenium.webdriver.remote.webelement.WebElement (session=\"bd648288c4e5f3c88471b13ae4ee0382\", element=\"3a3c5b52-2d9d-4f40-86b9-a032d1bbbc9c\")>,\n",
       " <selenium.webdriver.remote.webelement.WebElement (session=\"bd648288c4e5f3c88471b13ae4ee0382\", element=\"d2773db7-2ce1-4a65-9f5c-18da072ea7cc\")>,\n",
       " <selenium.webdriver.remote.webelement.WebElement (session=\"bd648288c4e5f3c88471b13ae4ee0382\", element=\"f1c568d6-d7b7-4d25-bb8d-a4b1b5fdb03b\")>,\n",
       " <selenium.webdriver.remote.webelement.WebElement (session=\"bd648288c4e5f3c88471b13ae4ee0382\", element=\"aa536a4d-771c-4236-906e-5473567527bb\")>]"
      ]
     },
     "execution_count": 36,
     "metadata": {},
     "output_type": "execute_result"
    }
   ],
   "source": [
    "# start to extract tags having company names\n",
    "companies_tags=driver.find_elements_by_xpath(\"//a[@class='subTitle ellipsis fleft']\")\n",
    "companies_tags[0:10]"
   ]
  },
  {
   "cell_type": "code",
   "execution_count": 37,
   "id": "76e631ed",
   "metadata": {},
   "outputs": [
    {
     "data": {
      "text/plain": [
       "['Wipro',\n",
       " 'TATA CONSULTANCY SERVICES (TCS)',\n",
       " 'Spiceworks',\n",
       " 'Wipro',\n",
       " 'EXL',\n",
       " 'PayU',\n",
       " 'Fractal Analytics',\n",
       " 'Paytm',\n",
       " 'Applied Materials',\n",
       " 'PwC']"
      ]
     },
     "execution_count": 37,
     "metadata": {},
     "output_type": "execute_result"
    }
   ],
   "source": [
    "#runs a loop extract to tags\n",
    "for i in companies_tags: #iterating over web element of company tags\n",
    "    company_name=i.text  #extracting text from web each element\n",
    "    company_names.append(company_name) #appending each extracted text into empty list\n",
    "    \n",
    "company_names[0:10]    #printing top 10 company names"
   ]
  },
  {
   "cell_type": "code",
   "execution_count": 38,
   "id": "012fa19a",
   "metadata": {},
   "outputs": [
    {
     "data": {
      "text/plain": [
       "[<selenium.webdriver.remote.webelement.WebElement (session=\"bd648288c4e5f3c88471b13ae4ee0382\", element=\"c542de70-5fcb-44d0-a1bf-f555c5f2bf64\")>,\n",
       " <selenium.webdriver.remote.webelement.WebElement (session=\"bd648288c4e5f3c88471b13ae4ee0382\", element=\"1ad516a8-de74-4ad2-9aa7-e301e8fe0124\")>,\n",
       " <selenium.webdriver.remote.webelement.WebElement (session=\"bd648288c4e5f3c88471b13ae4ee0382\", element=\"09eff88d-b1d7-4007-8f04-f4a31f3f6c09\")>,\n",
       " <selenium.webdriver.remote.webelement.WebElement (session=\"bd648288c4e5f3c88471b13ae4ee0382\", element=\"5bd053e5-86dd-4680-bcf2-40245c56d46f\")>,\n",
       " <selenium.webdriver.remote.webelement.WebElement (session=\"bd648288c4e5f3c88471b13ae4ee0382\", element=\"98e30412-bd00-42a9-b3f5-21cde89f8714\")>,\n",
       " <selenium.webdriver.remote.webelement.WebElement (session=\"bd648288c4e5f3c88471b13ae4ee0382\", element=\"15e546b3-7dfc-44ce-b782-08f25837f5f6\")>,\n",
       " <selenium.webdriver.remote.webelement.WebElement (session=\"bd648288c4e5f3c88471b13ae4ee0382\", element=\"58c2e814-4749-488d-acb3-f813f83196b9\")>,\n",
       " <selenium.webdriver.remote.webelement.WebElement (session=\"bd648288c4e5f3c88471b13ae4ee0382\", element=\"9084e9be-16a7-45d8-9f14-16317b22478e\")>,\n",
       " <selenium.webdriver.remote.webelement.WebElement (session=\"bd648288c4e5f3c88471b13ae4ee0382\", element=\"02c51bda-179e-40d8-a2c3-aba694d1b0b1\")>,\n",
       " <selenium.webdriver.remote.webelement.WebElement (session=\"bd648288c4e5f3c88471b13ae4ee0382\", element=\"eedf408c-22be-4dcf-8ecf-69c2e2bc0ce8\")>]"
      ]
     },
     "execution_count": 38,
     "metadata": {},
     "output_type": "execute_result"
    }
   ],
   "source": [
    "# start to extract tags having location lists\n",
    "locations_tags=driver.find_elements_by_xpath(\"//li[@class='fleft grey-text br2 placeHolderLi location']/span[1]\") #jobs search for\n",
    "locations_tags[0:10]"
   ]
  },
  {
   "cell_type": "code",
   "execution_count": 39,
   "id": "07831ae4",
   "metadata": {},
   "outputs": [
    {
     "data": {
      "text/plain": [
       "['Bangalore/Bengaluru',\n",
       " 'Bangalore/Bengaluru',\n",
       " 'Bangalore/Bengaluru',\n",
       " 'Bangalore/Bengaluru',\n",
       " 'Bangalore/Bengaluru',\n",
       " 'Bangalore/Bengaluru',\n",
       " 'Bangalore/Bengaluru',\n",
       " 'Bangalore/Bengaluru',\n",
       " 'Bangalore/Bengaluru',\n",
       " 'Bangalore/Bengaluru']"
      ]
     },
     "execution_count": 39,
     "metadata": {},
     "output_type": "execute_result"
    }
   ],
   "source": [
    "#runs a loop extract tags\n",
    "for i in locations_tags: #iterating over web element of location tags\n",
    "    location_list=i.text  #extracting text from web each element\n",
    "    location_lists.append(location) # appending each extracted text into empty list\n",
    "    \n",
    "location_lists[0:10]    #printing top 10 location list"
   ]
  },
  {
   "cell_type": "code",
   "execution_count": 40,
   "id": "44559cba",
   "metadata": {},
   "outputs": [
    {
     "name": "stdout",
     "output_type": "stream",
     "text": [
      "20 20 20\n"
     ]
    }
   ],
   "source": [
    "print(len(jobs_titles),len(company_names),len(location_lists))"
   ]
  },
  {
   "cell_type": "code",
   "execution_count": 41,
   "id": "77067bd3",
   "metadata": {},
   "outputs": [
    {
     "data": {
      "text/html": [
       "<div>\n",
       "<style scoped>\n",
       "    .dataframe tbody tr th:only-of-type {\n",
       "        vertical-align: middle;\n",
       "    }\n",
       "\n",
       "    .dataframe tbody tr th {\n",
       "        vertical-align: top;\n",
       "    }\n",
       "\n",
       "    .dataframe thead th {\n",
       "        text-align: right;\n",
       "    }\n",
       "</style>\n",
       "<table border=\"1\" class=\"dataframe\">\n",
       "  <thead>\n",
       "    <tr style=\"text-align: right;\">\n",
       "      <th></th>\n",
       "      <th>Jobs_tittles</th>\n",
       "      <th>Company_names</th>\n",
       "      <th>location_lists</th>\n",
       "    </tr>\n",
       "  </thead>\n",
       "  <tbody>\n",
       "    <tr>\n",
       "      <th>0</th>\n",
       "      <td>Data Analyst I</td>\n",
       "      <td>Wipro</td>\n",
       "      <td>Bangalore/Bengaluru</td>\n",
       "    </tr>\n",
       "    <tr>\n",
       "      <th>1</th>\n",
       "      <td>Data Science / Data Engineer / Business Analys...</td>\n",
       "      <td>TATA CONSULTANCY SERVICES (TCS)</td>\n",
       "      <td>Bangalore/Bengaluru</td>\n",
       "    </tr>\n",
       "    <tr>\n",
       "      <th>2</th>\n",
       "      <td>Sr.Business Data Analyst</td>\n",
       "      <td>Spiceworks</td>\n",
       "      <td>Bangalore/Bengaluru</td>\n",
       "    </tr>\n",
       "    <tr>\n",
       "      <th>3</th>\n",
       "      <td>Sr Data Analyst</td>\n",
       "      <td>Wipro</td>\n",
       "      <td>Bangalore/Bengaluru</td>\n",
       "    </tr>\n",
       "    <tr>\n",
       "      <th>4</th>\n",
       "      <td>Data Analyst / Business analyst - US MNC (anal...</td>\n",
       "      <td>EXL</td>\n",
       "      <td>Bangalore/Bengaluru</td>\n",
       "    </tr>\n",
       "    <tr>\n",
       "      <th>5</th>\n",
       "      <td>Junior Data Analyst</td>\n",
       "      <td>PayU</td>\n",
       "      <td>Bangalore/Bengaluru</td>\n",
       "    </tr>\n",
       "    <tr>\n",
       "      <th>6</th>\n",
       "      <td>Senior Data Analysis Analyst</td>\n",
       "      <td>Fractal Analytics</td>\n",
       "      <td>Bangalore/Bengaluru</td>\n",
       "    </tr>\n",
       "    <tr>\n",
       "      <th>7</th>\n",
       "      <td>Data Analyst</td>\n",
       "      <td>Paytm</td>\n",
       "      <td>Bangalore/Bengaluru</td>\n",
       "    </tr>\n",
       "    <tr>\n",
       "      <th>8</th>\n",
       "      <td>Data Analyst</td>\n",
       "      <td>Applied Materials</td>\n",
       "      <td>Bangalore/Bengaluru</td>\n",
       "    </tr>\n",
       "    <tr>\n",
       "      <th>9</th>\n",
       "      <td>Senior Data Analyst</td>\n",
       "      <td>PwC</td>\n",
       "      <td>Bangalore/Bengaluru</td>\n",
       "    </tr>\n",
       "    <tr>\n",
       "      <th>10</th>\n",
       "      <td>Senior Data Analyst</td>\n",
       "      <td>IBM</td>\n",
       "      <td>Bangalore/Bengaluru</td>\n",
       "    </tr>\n",
       "    <tr>\n",
       "      <th>11</th>\n",
       "      <td>Master Data Management Business Analyst</td>\n",
       "      <td>IBM</td>\n",
       "      <td>Bangalore/Bengaluru</td>\n",
       "    </tr>\n",
       "    <tr>\n",
       "      <th>12</th>\n",
       "      <td>Data Analyst - IIM/ISB/MDI/FMS/SP Jain</td>\n",
       "      <td>Schneider Electric</td>\n",
       "      <td>Bangalore/Bengaluru</td>\n",
       "    </tr>\n",
       "    <tr>\n",
       "      <th>13</th>\n",
       "      <td>Business Analyst/Data Analyst</td>\n",
       "      <td>Genpact</td>\n",
       "      <td>Bangalore/Bengaluru</td>\n",
       "    </tr>\n",
       "    <tr>\n",
       "      <th>14</th>\n",
       "      <td>Hiring For Data Analyst</td>\n",
       "      <td>EYGBS</td>\n",
       "      <td>Bangalore/Bengaluru</td>\n",
       "    </tr>\n",
       "    <tr>\n",
       "      <th>15</th>\n",
       "      <td>Data Analyst</td>\n",
       "      <td>IBM</td>\n",
       "      <td>Bangalore/Bengaluru</td>\n",
       "    </tr>\n",
       "    <tr>\n",
       "      <th>16</th>\n",
       "      <td>Associate Data Analyst</td>\n",
       "      <td>Walmart</td>\n",
       "      <td>Bangalore/Bengaluru</td>\n",
       "    </tr>\n",
       "    <tr>\n",
       "      <th>17</th>\n",
       "      <td>Associate Data Analyst</td>\n",
       "      <td>Wipro</td>\n",
       "      <td>Bangalore/Bengaluru</td>\n",
       "    </tr>\n",
       "    <tr>\n",
       "      <th>18</th>\n",
       "      <td>Senior Data Analyst II</td>\n",
       "      <td>Wipro</td>\n",
       "      <td>Bangalore/Bengaluru</td>\n",
       "    </tr>\n",
       "    <tr>\n",
       "      <th>19</th>\n",
       "      <td>Financial Data Analyst</td>\n",
       "      <td>IBM</td>\n",
       "      <td>Bangalore/Bengaluru</td>\n",
       "    </tr>\n",
       "  </tbody>\n",
       "</table>\n",
       "</div>"
      ],
      "text/plain": [
       "                                         Jobs_tittles  \\\n",
       "0                                      Data Analyst I   \n",
       "1   Data Science / Data Engineer / Business Analys...   \n",
       "2                            Sr.Business Data Analyst   \n",
       "3                                     Sr Data Analyst   \n",
       "4   Data Analyst / Business analyst - US MNC (anal...   \n",
       "5                                 Junior Data Analyst   \n",
       "6                        Senior Data Analysis Analyst   \n",
       "7                                        Data Analyst   \n",
       "8                                        Data Analyst   \n",
       "9                                 Senior Data Analyst   \n",
       "10                                Senior Data Analyst   \n",
       "11            Master Data Management Business Analyst   \n",
       "12             Data Analyst - IIM/ISB/MDI/FMS/SP Jain   \n",
       "13                      Business Analyst/Data Analyst   \n",
       "14                            Hiring For Data Analyst   \n",
       "15                                       Data Analyst   \n",
       "16                             Associate Data Analyst   \n",
       "17                             Associate Data Analyst   \n",
       "18                             Senior Data Analyst II   \n",
       "19                             Financial Data Analyst   \n",
       "\n",
       "                      Company_names       location_lists  \n",
       "0                             Wipro  Bangalore/Bengaluru  \n",
       "1   TATA CONSULTANCY SERVICES (TCS)  Bangalore/Bengaluru  \n",
       "2                        Spiceworks  Bangalore/Bengaluru  \n",
       "3                             Wipro  Bangalore/Bengaluru  \n",
       "4                               EXL  Bangalore/Bengaluru  \n",
       "5                              PayU  Bangalore/Bengaluru  \n",
       "6                 Fractal Analytics  Bangalore/Bengaluru  \n",
       "7                             Paytm  Bangalore/Bengaluru  \n",
       "8                 Applied Materials  Bangalore/Bengaluru  \n",
       "9                               PwC  Bangalore/Bengaluru  \n",
       "10                              IBM  Bangalore/Bengaluru  \n",
       "11                              IBM  Bangalore/Bengaluru  \n",
       "12               Schneider Electric  Bangalore/Bengaluru  \n",
       "13                          Genpact  Bangalore/Bengaluru  \n",
       "14                            EYGBS  Bangalore/Bengaluru  \n",
       "15                              IBM  Bangalore/Bengaluru  \n",
       "16                          Walmart  Bangalore/Bengaluru  \n",
       "17                            Wipro  Bangalore/Bengaluru  \n",
       "18                            Wipro  Bangalore/Bengaluru  \n",
       "19                              IBM  Bangalore/Bengaluru  "
      ]
     },
     "execution_count": 41,
     "metadata": {},
     "output_type": "execute_result"
    }
   ],
   "source": [
    "#make data frame\n",
    "df=pd.DataFrame({'Jobs_tittles':job_titles,'Company_names':\n",
    "                company_names,'location_lists':location_lists})\n",
    "df"
   ]
  },
  {
   "cell_type": "code",
   "execution_count": 42,
   "id": "e6f49591",
   "metadata": {},
   "outputs": [
    {
     "data": {
      "text/plain": [
       "[<selenium.webdriver.remote.webelement.WebElement (session=\"bd648288c4e5f3c88471b13ae4ee0382\", element=\"fa41ebf5-5723-4d56-9a56-cb0e3fbbedf8\")>,\n",
       " <selenium.webdriver.remote.webelement.WebElement (session=\"bd648288c4e5f3c88471b13ae4ee0382\", element=\"af197a1f-d338-402f-802a-af50ad5e235b\")>,\n",
       " <selenium.webdriver.remote.webelement.WebElement (session=\"bd648288c4e5f3c88471b13ae4ee0382\", element=\"a56d5621-12a8-4e88-82de-eec7e175b323\")>,\n",
       " <selenium.webdriver.remote.webelement.WebElement (session=\"bd648288c4e5f3c88471b13ae4ee0382\", element=\"83556994-aa35-4bc7-896d-dbd336c0a8f9\")>,\n",
       " <selenium.webdriver.remote.webelement.WebElement (session=\"bd648288c4e5f3c88471b13ae4ee0382\", element=\"cdce4cfb-fef8-4bd7-9589-8185bc21433b\")>,\n",
       " <selenium.webdriver.remote.webelement.WebElement (session=\"bd648288c4e5f3c88471b13ae4ee0382\", element=\"cf571734-ec8f-4e26-902e-2eb1b6e9ba0a\")>,\n",
       " <selenium.webdriver.remote.webelement.WebElement (session=\"bd648288c4e5f3c88471b13ae4ee0382\", element=\"ec42fcaa-e546-4261-aae1-96ba7c0a38ce\")>,\n",
       " <selenium.webdriver.remote.webelement.WebElement (session=\"bd648288c4e5f3c88471b13ae4ee0382\", element=\"77ecaa74-cd5f-4253-8490-324aa4a57dce\")>,\n",
       " <selenium.webdriver.remote.webelement.WebElement (session=\"bd648288c4e5f3c88471b13ae4ee0382\", element=\"607ba1fd-9bb6-4d78-845d-69b30d6c1e12\")>,\n",
       " <selenium.webdriver.remote.webelement.WebElement (session=\"bd648288c4e5f3c88471b13ae4ee0382\", element=\"8e580f77-2178-4e6c-b1db-154efd29f659\")>]"
      ]
     },
     "execution_count": 42,
     "metadata": {},
     "output_type": "execute_result"
    }
   ],
   "source": [
    "#code fetch of any urls\n",
    "urls=driver.find_elements_by_xpath(\"//a[@class='title fw500 ellipsis']\") #locating web element of url\n",
    "urls[0:10]"
   ]
  },
  {
   "cell_type": "code",
   "execution_count": 43,
   "id": "3771eee2",
   "metadata": {},
   "outputs": [
    {
     "name": "stdout",
     "output_type": "stream",
     "text": [
      "https://www.naukri.com/job-listings-urgent-opening-for-ai-practitioner-data-science-at-wipro-holmes-wipro-limited-kochi-cochin-new-delhi-bangalore-bengaluru-coimbatore-chennai-pune-mumbai-hyderabad-11-to-21-years-310522004893\n",
      "https://www.naukri.com/job-listings-hiring-for-senior-data-scientist-tata-consultancy-services-ltd-pune-bangalore-bengaluru-8-to-13-years-130722002780\n",
      "https://www.naukri.com/job-listings-senior-data-scientist-spiceworks-mumbai-hyderabad-secunderabad-pune-bangalore-bengaluru-remote-5-to-7-years-150722501193\n",
      "https://www.naukri.com/job-listings-dataiku-consultant-wipro-limited-pune-chennai-bangalore-bengaluru-10-to-16-years-060722005045\n",
      "https://www.naukri.com/job-listings-research-and-development-ai-ml-phd-exl-services-com-i-pvt-ltd-noida-hyderabad-secunderabad-pune-gurgaon-gurugram-chennai-bangalore-bengaluru-delhi-ncr-4-to-8-years-030522007386\n",
      "https://www.naukri.com/job-listings-opportunity-for-data-scientist-female-candidates-only-payu-payments-private-limited-gurgaon-gurugram-bangalore-bengaluru-mumbai-all-areas-1-to-3-years-040722005955\n",
      "https://www.naukri.com/job-listings-senior-data-science-engineer-fractal-analytics-pvt-ltd-gurgaon-gurugram-bangalore-bengaluru-mumbai-all-areas-5-to-9-years-200622006171\n",
      "https://www.naukri.com/job-listings-data-science-engineering-manager-paytm-noida-mumbai-bangalore-bengaluru-9-to-13-years-160622501981\n",
      "https://www.naukri.com/job-listings-data-scientist-applied-materials-india-private-limited-bangalore-bengaluru-4-to-7-years-120722905916\n",
      "https://www.naukri.com/job-listings-data-analytics-tech-informatica-cloud-senior-associate-pricewaterhouse-coopers-private-limited-bangalore-bengaluru-6-to-10-years-120722905627\n"
     ]
    }
   ],
   "source": [
    "for i in urls[0:10]:  #giving range to print top 10 data\n",
    "    print(i.get_attribute('href'))  #url is present inside href attritube and href attritube present inside tags"
   ]
  },
  {
   "cell_type": "code",
   "execution_count": null,
   "id": "408753ee",
   "metadata": {},
   "outputs": [],
   "source": [
    "# Question - 3"
   ]
  },
  {
   "cell_type": "code",
   "execution_count": 44,
   "id": "8c75d38f",
   "metadata": {},
   "outputs": [],
   "source": [
    "# lets connect to web driver\n",
    "driver=webdriver.Chrome(r\"C:\\Users\\Vikash_info\\chromedriver.exe\")"
   ]
  },
  {
   "cell_type": "code",
   "execution_count": 45,
   "id": "9003a0cf",
   "metadata": {},
   "outputs": [],
   "source": [
    "driver=webdriver.Chrome(\"chromedriver.exe\")\n",
    "time.sleep(2)"
   ]
  },
  {
   "cell_type": "code",
   "execution_count": 46,
   "id": "cf953ade",
   "metadata": {},
   "outputs": [],
   "source": [
    "#scraping up naukri.com with automated web driver\n",
    "driver.get(\"https://www.naukri.com/\")"
   ]
  },
  {
   "cell_type": "code",
   "execution_count": 47,
   "id": "d144ce56",
   "metadata": {},
   "outputs": [],
   "source": [
    "##finding element job search for designation\n",
    "search_field_designation=driver.find_element_by_class_name(\"suggestor-input \") #job search for\n",
    "search_field_designation.send_keys(\"Data Scientist\")"
   ]
  },
  {
   "cell_type": "code",
   "execution_count": 48,
   "id": "1fc253e3",
   "metadata": {},
   "outputs": [],
   "source": [
    "search_button=driver.find_element_by_xpath(\"/html/body/div[1]/div[2]/div[3]/div/div/div[6]\")\n",
    "search_button.click()"
   ]
  },
  {
   "cell_type": "code",
   "execution_count": 58,
   "id": "e4ae2e38",
   "metadata": {},
   "outputs": [],
   "source": [
    "job_titles=[]\n",
    "company_names=[]\n",
    "experience_lists=[]\n",
    "locations_lists=[]"
   ]
  },
  {
   "cell_type": "code",
   "execution_count": 59,
   "id": "3f2cdebd",
   "metadata": {},
   "outputs": [
    {
     "data": {
      "text/plain": [
       "[<selenium.webdriver.remote.webelement.WebElement (session=\"0479450173ae697d88ac8e85f5761f84\", element=\"1af90040-4508-4240-bd05-132fd6fd9daa\")>,\n",
       " <selenium.webdriver.remote.webelement.WebElement (session=\"0479450173ae697d88ac8e85f5761f84\", element=\"b5b0363e-603c-404a-b6b3-b0e48362ab66\")>,\n",
       " <selenium.webdriver.remote.webelement.WebElement (session=\"0479450173ae697d88ac8e85f5761f84\", element=\"4733a875-e824-458f-a1e8-17eaf33f09c8\")>,\n",
       " <selenium.webdriver.remote.webelement.WebElement (session=\"0479450173ae697d88ac8e85f5761f84\", element=\"0640b095-df17-4795-a742-1e90ed62e200\")>,\n",
       " <selenium.webdriver.remote.webelement.WebElement (session=\"0479450173ae697d88ac8e85f5761f84\", element=\"897062e9-93e8-4ff3-b18a-bcac1b84c154\")>,\n",
       " <selenium.webdriver.remote.webelement.WebElement (session=\"0479450173ae697d88ac8e85f5761f84\", element=\"99644699-c883-4c70-8812-b7ea49b06145\")>,\n",
       " <selenium.webdriver.remote.webelement.WebElement (session=\"0479450173ae697d88ac8e85f5761f84\", element=\"fdf9cb85-03b1-4e4b-8f42-bf05a495a1ad\")>,\n",
       " <selenium.webdriver.remote.webelement.WebElement (session=\"0479450173ae697d88ac8e85f5761f84\", element=\"7df36d92-694f-4d2c-8aae-88351c3e2605\")>,\n",
       " <selenium.webdriver.remote.webelement.WebElement (session=\"0479450173ae697d88ac8e85f5761f84\", element=\"e33545df-f74f-4f55-8ece-324ceeed973d\")>,\n",
       " <selenium.webdriver.remote.webelement.WebElement (session=\"0479450173ae697d88ac8e85f5761f84\", element=\"d1be14cd-9bfb-48c2-876e-54d16a01afd3\")>]"
      ]
     },
     "execution_count": 59,
     "metadata": {},
     "output_type": "execute_result"
    }
   ],
   "source": [
    "#so lets extract all tags having the job titles\n",
    "titles_tags=driver.find_elements_by_xpath(\"//a[@class='title fw500 ellipsis']\")\n",
    "titles_tags[0:10]"
   ]
  },
  {
   "cell_type": "code",
   "execution_count": 60,
   "id": "fcc16d7c",
   "metadata": {},
   "outputs": [
    {
     "data": {
      "text/plain": [
       "['DigitalBCG GAMMA Data Scientist',\n",
       " 'Data Scientist - Noida/Bangalore',\n",
       " 'Senior Associate - Data Science',\n",
       " 'Data Scientist For Healthcare Product team',\n",
       " 'Data Scientist For Healthcare Product team',\n",
       " 'Data Scientist - MIND Infotech',\n",
       " 'Data Science Associate',\n",
       " 'Data Scientist - Engine Algorithm',\n",
       " 'Knowledge/Data Scientist',\n",
       " 'Data Scientist']"
      ]
     },
     "execution_count": 60,
     "metadata": {},
     "output_type": "execute_result"
    }
   ],
   "source": [
    "#create a loop for extract tags\n",
    "for i in titles_tags:#iterating over web element of title\n",
    "    job_title=i.text #extracting text from web each element\n",
    "    job_titles.append(job_title) # appending each extected text into empty list\n",
    "job_titles[0:10]    #printing top 10 data"
   ]
  },
  {
   "cell_type": "code",
   "execution_count": 61,
   "id": "a5c7c17a",
   "metadata": {},
   "outputs": [
    {
     "data": {
      "text/plain": [
       "[<selenium.webdriver.remote.webelement.WebElement (session=\"0479450173ae697d88ac8e85f5761f84\", element=\"93415783-edde-4433-8412-84d2bcb9637c\")>,\n",
       " <selenium.webdriver.remote.webelement.WebElement (session=\"0479450173ae697d88ac8e85f5761f84\", element=\"af104e07-d4fa-41dd-8b48-9798e440b553\")>,\n",
       " <selenium.webdriver.remote.webelement.WebElement (session=\"0479450173ae697d88ac8e85f5761f84\", element=\"e64eb48d-1cb8-49a6-adf5-ace0893421b7\")>,\n",
       " <selenium.webdriver.remote.webelement.WebElement (session=\"0479450173ae697d88ac8e85f5761f84\", element=\"efc513bd-6cff-46ab-80f9-87ddbb54ae3b\")>,\n",
       " <selenium.webdriver.remote.webelement.WebElement (session=\"0479450173ae697d88ac8e85f5761f84\", element=\"91e7bf16-48ba-4cfc-aa6e-577d8cc06887\")>,\n",
       " <selenium.webdriver.remote.webelement.WebElement (session=\"0479450173ae697d88ac8e85f5761f84\", element=\"7d2247aa-99e2-4f07-b818-c98592c7939f\")>,\n",
       " <selenium.webdriver.remote.webelement.WebElement (session=\"0479450173ae697d88ac8e85f5761f84\", element=\"c1cbafbf-475d-4d1c-9d98-8e1342734a88\")>,\n",
       " <selenium.webdriver.remote.webelement.WebElement (session=\"0479450173ae697d88ac8e85f5761f84\", element=\"18005c5f-82d2-4c50-8200-5813f6ea45b8\")>,\n",
       " <selenium.webdriver.remote.webelement.WebElement (session=\"0479450173ae697d88ac8e85f5761f84\", element=\"5aa5805e-392f-48c2-879f-197d578f3462\")>,\n",
       " <selenium.webdriver.remote.webelement.WebElement (session=\"0479450173ae697d88ac8e85f5761f84\", element=\"01200443-64a8-4e75-80ce-07988c1d0853\")>]"
      ]
     },
     "execution_count": 61,
     "metadata": {},
     "output_type": "execute_result"
    }
   ],
   "source": [
    "#lets extract the tags having company name\n",
    "companies_tags=driver.find_elements_by_xpath(\"//a[@class='subTitle ellipsis fleft']\")\n",
    "companies_tags[0:10]"
   ]
  },
  {
   "cell_type": "code",
   "execution_count": 62,
   "id": "b143537b",
   "metadata": {},
   "outputs": [
    {
     "data": {
      "text/plain": [
       "['Boston Consulting Group',\n",
       " 'EXL',\n",
       " 'Black Turtle',\n",
       " 'SECUREKLOUD TECHNOLOGIES',\n",
       " 'SECUREKLOUD TECHNOLOGIES',\n",
       " 'MOTHERSONSUMI INFOTECH & DESIGNS LIMITED',\n",
       " 'Kreate Energy',\n",
       " 'Primo Hiring',\n",
       " 'BOLD Technology Systems',\n",
       " 'Mount Talent Consulting Private Limited']"
      ]
     },
     "execution_count": 62,
     "metadata": {},
     "output_type": "execute_result"
    }
   ],
   "source": [
    "#use a loop extrcat tags\n",
    "for i in companies_tags:  #iterating over web element of company tags\n",
    "    company_name=i.text #extracting text from web each element\n",
    "    company_names.append(company_name) #appending each extected text into empty list\n",
    "company_names[0:10]    #printing top 10 data"
   ]
  },
  {
   "cell_type": "code",
   "execution_count": 63,
   "id": "ef817c74",
   "metadata": {},
   "outputs": [
    {
     "data": {
      "text/plain": [
       "[<selenium.webdriver.remote.webelement.WebElement (session=\"0479450173ae697d88ac8e85f5761f84\", element=\"7cd02068-3473-48e4-876d-64ceae8617c1\")>,\n",
       " <selenium.webdriver.remote.webelement.WebElement (session=\"0479450173ae697d88ac8e85f5761f84\", element=\"94c7f096-85b3-4603-848b-26261475a786\")>,\n",
       " <selenium.webdriver.remote.webelement.WebElement (session=\"0479450173ae697d88ac8e85f5761f84\", element=\"3e37da9e-2e20-4d81-a5e2-3ef9274937ac\")>,\n",
       " <selenium.webdriver.remote.webelement.WebElement (session=\"0479450173ae697d88ac8e85f5761f84\", element=\"40e4b284-3e4f-4d86-b3ed-5a863be08979\")>,\n",
       " <selenium.webdriver.remote.webelement.WebElement (session=\"0479450173ae697d88ac8e85f5761f84\", element=\"7a7d87af-a5b1-4389-b7d0-92827160013c\")>,\n",
       " <selenium.webdriver.remote.webelement.WebElement (session=\"0479450173ae697d88ac8e85f5761f84\", element=\"087de273-68dd-410b-b403-395bb27a3d03\")>,\n",
       " <selenium.webdriver.remote.webelement.WebElement (session=\"0479450173ae697d88ac8e85f5761f84\", element=\"a67ac6cc-721b-44b8-b389-23b1951821a8\")>,\n",
       " <selenium.webdriver.remote.webelement.WebElement (session=\"0479450173ae697d88ac8e85f5761f84\", element=\"69c7ceca-1925-4e99-870a-7d5e2bd6f438\")>,\n",
       " <selenium.webdriver.remote.webelement.WebElement (session=\"0479450173ae697d88ac8e85f5761f84\", element=\"88e1ea45-8fef-4b74-b48f-df2254fa9a87\")>,\n",
       " <selenium.webdriver.remote.webelement.WebElement (session=\"0479450173ae697d88ac8e85f5761f84\", element=\"21113acb-0110-4c8e-8af5-67d9d22fa78b\")>]"
      ]
     },
     "execution_count": 63,
     "metadata": {},
     "output_type": "execute_result"
    }
   ],
   "source": [
    "# now let me extract all the tags having exp names\n",
    "experiences_tags=driver.find_elements_by_xpath(\"//li[@class='fleft grey-text br2 placeHolderLi experience']/span\")\n",
    "experiences_tags[0:10]"
   ]
  },
  {
   "cell_type": "code",
   "execution_count": 64,
   "id": "10e6ec2d",
   "metadata": {},
   "outputs": [
    {
     "data": {
      "text/plain": [
       "['2-5 Yrs',\n",
       " '5-10 Yrs',\n",
       " '4-7 Yrs',\n",
       " '2-7 Yrs',\n",
       " '2-7 Yrs',\n",
       " '4-8 Yrs',\n",
       " '2-4 Yrs',\n",
       " '1-3 Yrs',\n",
       " '3-6 Yrs',\n",
       " '2-4 Yrs']"
      ]
     },
     "execution_count": 64,
     "metadata": {},
     "output_type": "execute_result"
    }
   ],
   "source": [
    "# now let me extract all the tags having exp names\n",
    "for i in experiences_tags:  #iterating over web element of experience tags\n",
    "    experience_list=i.text #extracting text from web each element\n",
    "    experience_lists.append(experience_list) #appending each extected text into empty list\n",
    "experience_lists[0:10] #printing top 10 data"
   ]
  },
  {
   "cell_type": "code",
   "execution_count": 65,
   "id": "33fa63b4",
   "metadata": {},
   "outputs": [
    {
     "data": {
      "text/plain": [
       "[<selenium.webdriver.remote.webelement.WebElement (session=\"0479450173ae697d88ac8e85f5761f84\", element=\"303d09a5-4ab9-4ca3-a662-12f849c6952f\")>,\n",
       " <selenium.webdriver.remote.webelement.WebElement (session=\"0479450173ae697d88ac8e85f5761f84\", element=\"3ffb034a-0991-4c34-99a3-cebe9a2072ab\")>,\n",
       " <selenium.webdriver.remote.webelement.WebElement (session=\"0479450173ae697d88ac8e85f5761f84\", element=\"b1d47314-cd31-48bf-b491-3ed819f0c684\")>,\n",
       " <selenium.webdriver.remote.webelement.WebElement (session=\"0479450173ae697d88ac8e85f5761f84\", element=\"f92fcbc4-6c1d-4c5f-9ebc-a536050f772b\")>,\n",
       " <selenium.webdriver.remote.webelement.WebElement (session=\"0479450173ae697d88ac8e85f5761f84\", element=\"9e6b522d-242b-42f6-9efb-365924c8fbda\")>,\n",
       " <selenium.webdriver.remote.webelement.WebElement (session=\"0479450173ae697d88ac8e85f5761f84\", element=\"95187198-8b0a-4579-976d-b2d92f680173\")>,\n",
       " <selenium.webdriver.remote.webelement.WebElement (session=\"0479450173ae697d88ac8e85f5761f84\", element=\"9a6725b1-0e5d-4385-8fab-2a1ea0f29e6d\")>,\n",
       " <selenium.webdriver.remote.webelement.WebElement (session=\"0479450173ae697d88ac8e85f5761f84\", element=\"dbc1f9e3-375c-46ec-afa0-7c1391e70f48\")>,\n",
       " <selenium.webdriver.remote.webelement.WebElement (session=\"0479450173ae697d88ac8e85f5761f84\", element=\"136563ad-151d-4d42-9d87-3f7d452a2ec4\")>,\n",
       " <selenium.webdriver.remote.webelement.WebElement (session=\"0479450173ae697d88ac8e85f5761f84\", element=\"c794cc9b-68bc-424b-aead-c8e3b6679aa9\")>]"
      ]
     },
     "execution_count": 65,
     "metadata": {},
     "output_type": "execute_result"
    }
   ],
   "source": [
    "# now let me extract all the tags having locations names\n",
    "locations_tags=driver.find_elements_by_xpath(\"//li[@class='fleft grey-text br2 placeHolderLi location']/span[1]\")\n",
    "locations_tags[0:10]"
   ]
  },
  {
   "cell_type": "code",
   "execution_count": 66,
   "id": "4b222dfc",
   "metadata": {},
   "outputs": [
    {
     "data": {
      "text/plain": [
       "['New Delhi, Bangalore/Bengaluru',\n",
       " 'Noida, Bangalore/Bengaluru',\n",
       " 'Mumbai, Hyderabad/Secunderabad, Gurgaon/Gurugram, Bangalore/Bengaluru',\n",
       " 'Delhi / NCR, Chennai, Bangalore/Bengaluru',\n",
       " 'Delhi / NCR, Chennai, Bangalore/Bengaluru',\n",
       " 'Noida',\n",
       " 'Delhi / NCR(Vaishali)',\n",
       " 'Delhi / NCR, Kolkata, Mumbai, Hyderabad/Secunderabad, Lucknow, Chennai, Ahmedabad, Bangalore/Bengaluru',\n",
       " 'Delhi / NCR',\n",
       " 'Delhi / NCR, Pune, Bangalore/Bengaluru']"
      ]
     },
     "execution_count": 66,
     "metadata": {},
     "output_type": "execute_result"
    }
   ],
   "source": [
    "for i in locations_tags: #iterating over web element of location tags\n",
    "    location_list=i.text #extracting text from web each element\n",
    "    locations_lists.append(location_list)  #appending each extected text into empty list\n",
    "locations_lists[0:10]  #printing top 10 data"
   ]
  },
  {
   "cell_type": "code",
   "execution_count": 67,
   "id": "73aad083",
   "metadata": {},
   "outputs": [
    {
     "name": "stdout",
     "output_type": "stream",
     "text": [
      "20 20 20 20\n"
     ]
    }
   ],
   "source": [
    "print(len(job_titles),len(company_names),len(experience_lists),len(locations_lists))"
   ]
  },
  {
   "cell_type": "code",
   "execution_count": 68,
   "id": "58761ed2",
   "metadata": {},
   "outputs": [],
   "source": [
    "#make a DataFrame using import pandas as pd\n",
    "jobs=pd.DataFrame({})\n",
    "jobs['Titles']=job_titles\n",
    "jobs['Company_names']=company_names\n",
    "jobs['Experience_required']=experience_lists\n",
    "jobs['Locations_lists']=locations_lists"
   ]
  },
  {
   "cell_type": "code",
   "execution_count": 69,
   "id": "099f8db0",
   "metadata": {},
   "outputs": [
    {
     "data": {
      "text/html": [
       "<div>\n",
       "<style scoped>\n",
       "    .dataframe tbody tr th:only-of-type {\n",
       "        vertical-align: middle;\n",
       "    }\n",
       "\n",
       "    .dataframe tbody tr th {\n",
       "        vertical-align: top;\n",
       "    }\n",
       "\n",
       "    .dataframe thead th {\n",
       "        text-align: right;\n",
       "    }\n",
       "</style>\n",
       "<table border=\"1\" class=\"dataframe\">\n",
       "  <thead>\n",
       "    <tr style=\"text-align: right;\">\n",
       "      <th></th>\n",
       "      <th>Titles</th>\n",
       "      <th>Company_names</th>\n",
       "      <th>Experience_required</th>\n",
       "      <th>Locations_lists</th>\n",
       "    </tr>\n",
       "  </thead>\n",
       "  <tbody>\n",
       "    <tr>\n",
       "      <th>0</th>\n",
       "      <td>DigitalBCG GAMMA Data Scientist</td>\n",
       "      <td>Boston Consulting Group</td>\n",
       "      <td>2-5 Yrs</td>\n",
       "      <td>New Delhi, Bangalore/Bengaluru</td>\n",
       "    </tr>\n",
       "    <tr>\n",
       "      <th>1</th>\n",
       "      <td>Data Scientist - Noida/Bangalore</td>\n",
       "      <td>EXL</td>\n",
       "      <td>5-10 Yrs</td>\n",
       "      <td>Noida, Bangalore/Bengaluru</td>\n",
       "    </tr>\n",
       "    <tr>\n",
       "      <th>2</th>\n",
       "      <td>Senior Associate - Data Science</td>\n",
       "      <td>Black Turtle</td>\n",
       "      <td>4-7 Yrs</td>\n",
       "      <td>Mumbai, Hyderabad/Secunderabad, Gurgaon/Gurugr...</td>\n",
       "    </tr>\n",
       "    <tr>\n",
       "      <th>3</th>\n",
       "      <td>Data Scientist For Healthcare Product team</td>\n",
       "      <td>SECUREKLOUD TECHNOLOGIES</td>\n",
       "      <td>2-7 Yrs</td>\n",
       "      <td>Delhi / NCR, Chennai, Bangalore/Bengaluru</td>\n",
       "    </tr>\n",
       "    <tr>\n",
       "      <th>4</th>\n",
       "      <td>Data Scientist For Healthcare Product team</td>\n",
       "      <td>SECUREKLOUD TECHNOLOGIES</td>\n",
       "      <td>2-7 Yrs</td>\n",
       "      <td>Delhi / NCR, Chennai, Bangalore/Bengaluru</td>\n",
       "    </tr>\n",
       "    <tr>\n",
       "      <th>5</th>\n",
       "      <td>Data Scientist - MIND Infotech</td>\n",
       "      <td>MOTHERSONSUMI INFOTECH &amp; DESIGNS LIMITED</td>\n",
       "      <td>4-8 Yrs</td>\n",
       "      <td>Noida</td>\n",
       "    </tr>\n",
       "    <tr>\n",
       "      <th>6</th>\n",
       "      <td>Data Science Associate</td>\n",
       "      <td>Kreate Energy</td>\n",
       "      <td>2-4 Yrs</td>\n",
       "      <td>Delhi / NCR(Vaishali)</td>\n",
       "    </tr>\n",
       "    <tr>\n",
       "      <th>7</th>\n",
       "      <td>Data Scientist - Engine Algorithm</td>\n",
       "      <td>Primo Hiring</td>\n",
       "      <td>1-3 Yrs</td>\n",
       "      <td>Delhi / NCR, Kolkata, Mumbai, Hyderabad/Secund...</td>\n",
       "    </tr>\n",
       "    <tr>\n",
       "      <th>8</th>\n",
       "      <td>Knowledge/Data Scientist</td>\n",
       "      <td>BOLD Technology Systems</td>\n",
       "      <td>3-6 Yrs</td>\n",
       "      <td>Delhi / NCR</td>\n",
       "    </tr>\n",
       "    <tr>\n",
       "      <th>9</th>\n",
       "      <td>Data Scientist</td>\n",
       "      <td>Mount Talent Consulting Private Limited</td>\n",
       "      <td>2-4 Yrs</td>\n",
       "      <td>Delhi / NCR, Pune, Bangalore/Bengaluru</td>\n",
       "    </tr>\n",
       "    <tr>\n",
       "      <th>10</th>\n",
       "      <td>Data Scientist</td>\n",
       "      <td>Mount Talent Consulting Private Limited</td>\n",
       "      <td>2-4 Yrs</td>\n",
       "      <td>Delhi / NCR, Pune, Bangalore/Bengaluru</td>\n",
       "    </tr>\n",
       "    <tr>\n",
       "      <th>11</th>\n",
       "      <td>Data Scientist</td>\n",
       "      <td>Sydata Consulting India Pvt Ltd</td>\n",
       "      <td>3-8 Yrs</td>\n",
       "      <td>Delhi / NCR, Bangalore/Bengaluru, Mumbai (All ...</td>\n",
       "    </tr>\n",
       "    <tr>\n",
       "      <th>12</th>\n",
       "      <td>Machine Learning Seniors</td>\n",
       "      <td>Walking Tree Consultancy Services pvt Ltd</td>\n",
       "      <td>2-5 Yrs</td>\n",
       "      <td>Hyderabad/Secunderabad, New Delhi</td>\n",
       "    </tr>\n",
       "    <tr>\n",
       "      <th>13</th>\n",
       "      <td>Data Science</td>\n",
       "      <td>Mount Talent Consulting Private Limited</td>\n",
       "      <td>2-5 Yrs</td>\n",
       "      <td>Delhi / NCR, Noida, Faridabad, Gurgaon/Gurugra...</td>\n",
       "    </tr>\n",
       "    <tr>\n",
       "      <th>14</th>\n",
       "      <td>Data Science</td>\n",
       "      <td>Mount Talent Consulting Private Limited</td>\n",
       "      <td>2-5 Yrs</td>\n",
       "      <td>Delhi / NCR, Noida, Faridabad, Gurgaon/Gurugra...</td>\n",
       "    </tr>\n",
       "    <tr>\n",
       "      <th>15</th>\n",
       "      <td>Data Scientist</td>\n",
       "      <td>Kellton Tech Solutions</td>\n",
       "      <td>3-6 Yrs</td>\n",
       "      <td>Gurgaon/Gurugram</td>\n",
       "    </tr>\n",
       "    <tr>\n",
       "      <th>16</th>\n",
       "      <td>Hiring || Data Scientist || North Delhi || 5.5...</td>\n",
       "      <td>Shriram Automall</td>\n",
       "      <td>4-9 Yrs</td>\n",
       "      <td>Delhi / NCR(Netaji Subhash Place)</td>\n",
       "    </tr>\n",
       "    <tr>\n",
       "      <th>17</th>\n",
       "      <td>Data scientist- Python</td>\n",
       "      <td>TeamPlus Staffing Solution Pvt Ltd</td>\n",
       "      <td>3-6 Yrs</td>\n",
       "      <td>Gurgaon/Gurugram</td>\n",
       "    </tr>\n",
       "    <tr>\n",
       "      <th>18</th>\n",
       "      <td>Data Engineer</td>\n",
       "      <td>excellence</td>\n",
       "      <td>4-9 Yrs</td>\n",
       "      <td>Mumbai, New Delhi, Pune</td>\n",
       "    </tr>\n",
       "    <tr>\n",
       "      <th>19</th>\n",
       "      <td>Associate Data Scientist - Java/ Scala/ Apache...</td>\n",
       "      <td>Smart work Consultants</td>\n",
       "      <td>1-4 Yrs</td>\n",
       "      <td>Noida</td>\n",
       "    </tr>\n",
       "  </tbody>\n",
       "</table>\n",
       "</div>"
      ],
      "text/plain": [
       "                                               Titles  \\\n",
       "0                     DigitalBCG GAMMA Data Scientist   \n",
       "1                    Data Scientist - Noida/Bangalore   \n",
       "2                     Senior Associate - Data Science   \n",
       "3          Data Scientist For Healthcare Product team   \n",
       "4          Data Scientist For Healthcare Product team   \n",
       "5                      Data Scientist - MIND Infotech   \n",
       "6                              Data Science Associate   \n",
       "7                   Data Scientist - Engine Algorithm   \n",
       "8                            Knowledge/Data Scientist   \n",
       "9                                      Data Scientist   \n",
       "10                                     Data Scientist   \n",
       "11                                     Data Scientist   \n",
       "12                           Machine Learning Seniors   \n",
       "13                                       Data Science   \n",
       "14                                       Data Science   \n",
       "15                                     Data Scientist   \n",
       "16  Hiring || Data Scientist || North Delhi || 5.5...   \n",
       "17                             Data scientist- Python   \n",
       "18                                      Data Engineer   \n",
       "19  Associate Data Scientist - Java/ Scala/ Apache...   \n",
       "\n",
       "                                Company_names Experience_required  \\\n",
       "0                     Boston Consulting Group             2-5 Yrs   \n",
       "1                                         EXL            5-10 Yrs   \n",
       "2                                Black Turtle             4-7 Yrs   \n",
       "3                    SECUREKLOUD TECHNOLOGIES             2-7 Yrs   \n",
       "4                    SECUREKLOUD TECHNOLOGIES             2-7 Yrs   \n",
       "5    MOTHERSONSUMI INFOTECH & DESIGNS LIMITED             4-8 Yrs   \n",
       "6                               Kreate Energy             2-4 Yrs   \n",
       "7                                Primo Hiring             1-3 Yrs   \n",
       "8                     BOLD Technology Systems             3-6 Yrs   \n",
       "9     Mount Talent Consulting Private Limited             2-4 Yrs   \n",
       "10    Mount Talent Consulting Private Limited             2-4 Yrs   \n",
       "11            Sydata Consulting India Pvt Ltd             3-8 Yrs   \n",
       "12  Walking Tree Consultancy Services pvt Ltd             2-5 Yrs   \n",
       "13    Mount Talent Consulting Private Limited             2-5 Yrs   \n",
       "14    Mount Talent Consulting Private Limited             2-5 Yrs   \n",
       "15                     Kellton Tech Solutions             3-6 Yrs   \n",
       "16                           Shriram Automall             4-9 Yrs   \n",
       "17         TeamPlus Staffing Solution Pvt Ltd             3-6 Yrs   \n",
       "18                                 excellence             4-9 Yrs   \n",
       "19                     Smart work Consultants             1-4 Yrs   \n",
       "\n",
       "                                      Locations_lists  \n",
       "0                      New Delhi, Bangalore/Bengaluru  \n",
       "1                          Noida, Bangalore/Bengaluru  \n",
       "2   Mumbai, Hyderabad/Secunderabad, Gurgaon/Gurugr...  \n",
       "3           Delhi / NCR, Chennai, Bangalore/Bengaluru  \n",
       "4           Delhi / NCR, Chennai, Bangalore/Bengaluru  \n",
       "5                                               Noida  \n",
       "6                               Delhi / NCR(Vaishali)  \n",
       "7   Delhi / NCR, Kolkata, Mumbai, Hyderabad/Secund...  \n",
       "8                                         Delhi / NCR  \n",
       "9              Delhi / NCR, Pune, Bangalore/Bengaluru  \n",
       "10             Delhi / NCR, Pune, Bangalore/Bengaluru  \n",
       "11  Delhi / NCR, Bangalore/Bengaluru, Mumbai (All ...  \n",
       "12                  Hyderabad/Secunderabad, New Delhi  \n",
       "13  Delhi / NCR, Noida, Faridabad, Gurgaon/Gurugra...  \n",
       "14  Delhi / NCR, Noida, Faridabad, Gurgaon/Gurugra...  \n",
       "15                                   Gurgaon/Gurugram  \n",
       "16                  Delhi / NCR(Netaji Subhash Place)  \n",
       "17                                   Gurgaon/Gurugram  \n",
       "18                            Mumbai, New Delhi, Pune  \n",
       "19                                              Noida  "
      ]
     },
     "execution_count": 69,
     "metadata": {},
     "output_type": "execute_result"
    }
   ],
   "source": [
    "jobs"
   ]
  },
  {
   "cell_type": "code",
   "execution_count": null,
   "id": "5bd30c12",
   "metadata": {},
   "outputs": [],
   "source": [
    "# Question - 4 Scraping Sunglass"
   ]
  },
  {
   "cell_type": "code",
   "execution_count": 3,
   "id": "869e46dd",
   "metadata": {},
   "outputs": [
    {
     "name": "stdout",
     "output_type": "stream",
     "text": [
      "Requirement already satisfied: selenium in c:\\programdata\\anaconda3\\lib\\site-packages (4.2.0)\n",
      "Requirement already satisfied: urllib3[secure,socks]~=1.26 in c:\\programdata\\anaconda3\\lib\\site-packages (from selenium) (1.26.7)\n",
      "Requirement already satisfied: trio~=0.17 in c:\\programdata\\anaconda3\\lib\\site-packages (from selenium) (0.21.0)\n",
      "Requirement already satisfied: trio-websocket~=0.9 in c:\\programdata\\anaconda3\\lib\\site-packages (from selenium) (0.9.2)\n",
      "Requirement already satisfied: outcome in c:\\programdata\\anaconda3\\lib\\site-packages (from trio~=0.17->selenium) (1.2.0)\n",
      "Requirement already satisfied: sortedcontainers in c:\\programdata\\anaconda3\\lib\\site-packages (from trio~=0.17->selenium) (2.4.0)\n",
      "Requirement already satisfied: idna in c:\\programdata\\anaconda3\\lib\\site-packages (from trio~=0.17->selenium) (3.2)\n",
      "Requirement already satisfied: sniffio in c:\\programdata\\anaconda3\\lib\\site-packages (from trio~=0.17->selenium) (1.2.0)\n",
      "Requirement already satisfied: async-generator>=1.9 in c:\\programdata\\anaconda3\\lib\\site-packages (from trio~=0.17->selenium) (1.10)\n",
      "Requirement already satisfied: attrs>=19.2.0 in c:\\programdata\\anaconda3\\lib\\site-packages (from trio~=0.17->selenium) (21.2.0)\n",
      "Requirement already satisfied: cffi>=1.14 in c:\\programdata\\anaconda3\\lib\\site-packages (from trio~=0.17->selenium) (1.14.6)\n",
      "Requirement already satisfied: pycparser in c:\\programdata\\anaconda3\\lib\\site-packages (from cffi>=1.14->trio~=0.17->selenium) (2.20)\n",
      "Requirement already satisfied: wsproto>=0.14 in c:\\programdata\\anaconda3\\lib\\site-packages (from trio-websocket~=0.9->selenium) (1.1.0)\n",
      "Requirement already satisfied: pyOpenSSL>=0.14 in c:\\programdata\\anaconda3\\lib\\site-packages (from urllib3[secure,socks]~=1.26->selenium) (21.0.0)\n",
      "Requirement already satisfied: cryptography>=1.3.4 in c:\\programdata\\anaconda3\\lib\\site-packages (from urllib3[secure,socks]~=1.26->selenium) (3.4.8)\n",
      "Requirement already satisfied: certifi in c:\\programdata\\anaconda3\\lib\\site-packages (from urllib3[secure,socks]~=1.26->selenium) (2021.10.8)\n",
      "Requirement already satisfied: PySocks!=1.5.7,<2.0,>=1.5.6 in c:\\programdata\\anaconda3\\lib\\site-packages (from urllib3[secure,socks]~=1.26->selenium) (1.7.1)\n",
      "Requirement already satisfied: six>=1.5.2 in c:\\programdata\\anaconda3\\lib\\site-packages (from pyOpenSSL>=0.14->urllib3[secure,socks]~=1.26->selenium) (1.16.0)\n",
      "Requirement already satisfied: h11<1,>=0.9.0 in c:\\programdata\\anaconda3\\lib\\site-packages (from wsproto>=0.14->trio-websocket~=0.9->selenium) (0.13.0)\n"
     ]
    }
   ],
   "source": [
    "!pip install selenium"
   ]
  },
  {
   "cell_type": "code",
   "execution_count": 5,
   "id": "810f41ab",
   "metadata": {},
   "outputs": [],
   "source": [
    "import selenium # to use selenium library\n",
    "import pandas as pd # install pandas library for DataFrame\n",
    "from selenium import webdriver # to open with automated chrome window\n",
    "import warnings \n",
    "warnings.filterwarnings('ignore') # to ingnore any sort of warnings\n",
    "import time # use to stop search engine for few seconds\n",
    "from selenium .webdriver.common.by import By"
   ]
  },
  {
   "cell_type": "code",
   "execution_count": 6,
   "id": "201e7176",
   "metadata": {},
   "outputs": [],
   "source": [
    "# lets first connect to the web driver\n",
    "driver=webdriver.Chrome(r\"C:\\Users\\Vikash_info\\chromedriver.exe\")"
   ]
  },
  {
   "cell_type": "code",
   "execution_count": 7,
   "id": "57c03aa7",
   "metadata": {},
   "outputs": [],
   "source": [
    "driver=webdriver.Chrome(\"chromedriver.exe\")\n",
    "time.sleep(2)"
   ]
  },
  {
   "cell_type": "code",
   "execution_count": 8,
   "id": "223bc9ad",
   "metadata": {},
   "outputs": [],
   "source": [
    "#scarping up flipcart.com on automated web driver\n",
    "driver.get(\"https://www.flipkart.com/\")"
   ]
  },
  {
   "cell_type": "code",
   "execution_count": 9,
   "id": "21159da8",
   "metadata": {},
   "outputs": [],
   "source": [
    "# finding element product search for\n",
    "sunglass=driver.find_element(By.CLASS_NAME,\"_3704LK\")\n",
    "sunglass.send_keys(\"sunglass\")\n",
    "\n",
    "search=driver.find_element(By.CLASS_NAME,\"L0Z3Pu\")\n",
    "search.click()\n"
   ]
  },
  {
   "cell_type": "code",
   "execution_count": 10,
   "id": "e37fccd1",
   "metadata": {},
   "outputs": [],
   "source": [
    "Brand=[] #create empty list\n",
    "start=0\n",
    "end= 3\n",
    "\n",
    "for page in range(0,3): #given range for page \n",
    "    Brands=driver.find_elements(By.XPATH,\"//div[@class='_2WkVRV']\") #scraping Brand from the xpath\n",
    "    for i in Brands:\n",
    "        Brand.append(i.text) #extracting text from web each element"
   ]
  },
  {
   "cell_type": "code",
   "execution_count": 11,
   "id": "175bb0f0",
   "metadata": {},
   "outputs": [],
   "source": [
    "desc=[] #create empty list\n",
    "start=0\n",
    "end=3\n",
    "for page in range(0,3): #given range for page \n",
    "    descs=driver.find_elements(By.XPATH,\"//a[@class='IRpwTa']\") #scraping description from the xpath\n",
    "    \n",
    "    for i in descs:\n",
    "        desc.append(i.text) #extracting text from web each element"
   ]
  },
  {
   "cell_type": "code",
   "execution_count": 12,
   "id": "2e426c22",
   "metadata": {},
   "outputs": [],
   "source": [
    "price=[] #create empty list\n",
    "start=0\n",
    "end=3\n",
    "for page in range(0,3): #given range for page \n",
    "    prices=driver.find_elements(By.XPATH,\"//div[@class='_30jeq3']\")#scraping price from the xpath\n",
    "    \n",
    "    for i in prices:\n",
    "        price.append(i.text) #extracting text from web each element"
   ]
  },
  {
   "cell_type": "code",
   "execution_count": 13,
   "id": "7efd9605",
   "metadata": {},
   "outputs": [
    {
     "name": "stdout",
     "output_type": "stream",
     "text": [
      "120 120 120\n"
     ]
    }
   ],
   "source": [
    "print(len(Brand),len(desc),len(price)) #checking len "
   ]
  },
  {
   "cell_type": "code",
   "execution_count": 14,
   "id": "ee98ce28",
   "metadata": {},
   "outputs": [
    {
     "data": {
      "text/html": [
       "<div>\n",
       "<style scoped>\n",
       "    .dataframe tbody tr th:only-of-type {\n",
       "        vertical-align: middle;\n",
       "    }\n",
       "\n",
       "    .dataframe tbody tr th {\n",
       "        vertical-align: top;\n",
       "    }\n",
       "\n",
       "    .dataframe thead th {\n",
       "        text-align: right;\n",
       "    }\n",
       "</style>\n",
       "<table border=\"1\" class=\"dataframe\">\n",
       "  <thead>\n",
       "    <tr style=\"text-align: right;\">\n",
       "      <th></th>\n",
       "      <th>Brand</th>\n",
       "      <th>Desc</th>\n",
       "      <th>Price</th>\n",
       "    </tr>\n",
       "  </thead>\n",
       "  <tbody>\n",
       "    <tr>\n",
       "      <th>0</th>\n",
       "      <td>Ray-Ban</td>\n",
       "      <td>Gradient Round Sunglasses (52)</td>\n",
       "      <td>₹10,889</td>\n",
       "    </tr>\n",
       "    <tr>\n",
       "      <th>1</th>\n",
       "      <td>Ray-Ban</td>\n",
       "      <td>Gradient Round Sunglasses (54)</td>\n",
       "      <td>₹10,889</td>\n",
       "    </tr>\n",
       "    <tr>\n",
       "      <th>2</th>\n",
       "      <td>DAHAAZIL</td>\n",
       "      <td>UV Protection, Night Vision, Riding Glasses Wa...</td>\n",
       "      <td>₹197</td>\n",
       "    </tr>\n",
       "    <tr>\n",
       "      <th>3</th>\n",
       "      <td>New Specs</td>\n",
       "      <td>UV Protection Rectangular Sunglasses (Free Size)</td>\n",
       "      <td>₹264</td>\n",
       "    </tr>\n",
       "    <tr>\n",
       "      <th>4</th>\n",
       "      <td>Fastrack</td>\n",
       "      <td>UV Protection Wayfarer Sunglasses (Free Size)</td>\n",
       "      <td>₹998</td>\n",
       "    </tr>\n",
       "    <tr>\n",
       "      <th>...</th>\n",
       "      <td>...</td>\n",
       "      <td>...</td>\n",
       "      <td>...</td>\n",
       "    </tr>\n",
       "    <tr>\n",
       "      <th>115</th>\n",
       "      <td>Ray-Ban</td>\n",
       "      <td>Mirrored Round Sunglasses (55)</td>\n",
       "      <td>₹7,189</td>\n",
       "    </tr>\n",
       "    <tr>\n",
       "      <th>116</th>\n",
       "      <td>AISLIN</td>\n",
       "      <td>UV Protection, Gradient Butterfly, Retro Squar...</td>\n",
       "      <td>₹443</td>\n",
       "    </tr>\n",
       "    <tr>\n",
       "      <th>117</th>\n",
       "      <td>ROZZETTA CRAFT</td>\n",
       "      <td>UV Protection, Gradient Rectangular Sunglasses...</td>\n",
       "      <td>₹381</td>\n",
       "    </tr>\n",
       "    <tr>\n",
       "      <th>118</th>\n",
       "      <td>Hamiw</td>\n",
       "      <td>UV Protection, Riding Glasses Round Sunglasses...</td>\n",
       "      <td>₹249</td>\n",
       "    </tr>\n",
       "    <tr>\n",
       "      <th>119</th>\n",
       "      <td>Ray-Ban</td>\n",
       "      <td>Mirrored Aviator Sunglasses (63)</td>\n",
       "      <td>₹5,489</td>\n",
       "    </tr>\n",
       "  </tbody>\n",
       "</table>\n",
       "<p>120 rows × 3 columns</p>\n",
       "</div>"
      ],
      "text/plain": [
       "              Brand                                               Desc  \\\n",
       "0           Ray-Ban                     Gradient Round Sunglasses (52)   \n",
       "1           Ray-Ban                     Gradient Round Sunglasses (54)   \n",
       "2          DAHAAZIL  UV Protection, Night Vision, Riding Glasses Wa...   \n",
       "3         New Specs   UV Protection Rectangular Sunglasses (Free Size)   \n",
       "4          Fastrack      UV Protection Wayfarer Sunglasses (Free Size)   \n",
       "..              ...                                                ...   \n",
       "115         Ray-Ban                     Mirrored Round Sunglasses (55)   \n",
       "116          AISLIN  UV Protection, Gradient Butterfly, Retro Squar...   \n",
       "117  ROZZETTA CRAFT  UV Protection, Gradient Rectangular Sunglasses...   \n",
       "118           Hamiw  UV Protection, Riding Glasses Round Sunglasses...   \n",
       "119         Ray-Ban                   Mirrored Aviator Sunglasses (63)   \n",
       "\n",
       "       Price  \n",
       "0    ₹10,889  \n",
       "1    ₹10,889  \n",
       "2       ₹197  \n",
       "3       ₹264  \n",
       "4       ₹998  \n",
       "..       ...  \n",
       "115   ₹7,189  \n",
       "116     ₹443  \n",
       "117     ₹381  \n",
       "118     ₹249  \n",
       "119   ₹5,489  \n",
       "\n",
       "[120 rows x 3 columns]"
      ]
     },
     "execution_count": 14,
     "metadata": {},
     "output_type": "execute_result"
    }
   ],
   "source": [
    "#made Data Frame from import pandas as pd\n",
    "sng=pd.DataFrame({'Brand':Brand,'Desc':desc,'Price':price})\n",
    "sng"
   ]
  },
  {
   "cell_type": "code",
   "execution_count": 3,
   "id": "3735e962",
   "metadata": {},
   "outputs": [
    {
     "name": "stdout",
     "output_type": "stream",
     "text": [
      "Requirement already satisfied: selenium in c:\\programdata\\anaconda3\\lib\\site-packages (4.2.0)\n",
      "Requirement already satisfied: trio~=0.17 in c:\\programdata\\anaconda3\\lib\\site-packages (from selenium) (0.21.0)\n",
      "Requirement already satisfied: urllib3[secure,socks]~=1.26 in c:\\programdata\\anaconda3\\lib\\site-packages (from selenium) (1.26.7)\n",
      "Requirement already satisfied: trio-websocket~=0.9 in c:\\programdata\\anaconda3\\lib\\site-packages (from selenium) (0.9.2)\n",
      "Requirement already satisfied: async-generator>=1.9 in c:\\programdata\\anaconda3\\lib\\site-packages (from trio~=0.17->selenium) (1.10)\n",
      "Requirement already satisfied: outcome in c:\\programdata\\anaconda3\\lib\\site-packages (from trio~=0.17->selenium) (1.2.0)\n",
      "Requirement already satisfied: sortedcontainers in c:\\programdata\\anaconda3\\lib\\site-packages (from trio~=0.17->selenium) (2.4.0)\n",
      "Requirement already satisfied: cffi>=1.14 in c:\\programdata\\anaconda3\\lib\\site-packages (from trio~=0.17->selenium) (1.14.6)\n",
      "Requirement already satisfied: idna in c:\\programdata\\anaconda3\\lib\\site-packages (from trio~=0.17->selenium) (3.2)\n",
      "Requirement already satisfied: sniffio in c:\\programdata\\anaconda3\\lib\\site-packages (from trio~=0.17->selenium) (1.2.0)\n",
      "Requirement already satisfied: attrs>=19.2.0 in c:\\programdata\\anaconda3\\lib\\site-packages (from trio~=0.17->selenium) (21.2.0)\n",
      "Requirement already satisfied: pycparser in c:\\programdata\\anaconda3\\lib\\site-packages (from cffi>=1.14->trio~=0.17->selenium) (2.20)\n",
      "Requirement already satisfied: wsproto>=0.14 in c:\\programdata\\anaconda3\\lib\\site-packages (from trio-websocket~=0.9->selenium) (1.1.0)\n",
      "Requirement already satisfied: PySocks!=1.5.7,<2.0,>=1.5.6 in c:\\programdata\\anaconda3\\lib\\site-packages (from urllib3[secure,socks]~=1.26->selenium) (1.7.1)\n",
      "Requirement already satisfied: pyOpenSSL>=0.14 in c:\\programdata\\anaconda3\\lib\\site-packages (from urllib3[secure,socks]~=1.26->selenium) (21.0.0)\n",
      "Requirement already satisfied: cryptography>=1.3.4 in c:\\programdata\\anaconda3\\lib\\site-packages (from urllib3[secure,socks]~=1.26->selenium) (3.4.8)\n",
      "Requirement already satisfied: certifi in c:\\programdata\\anaconda3\\lib\\site-packages (from urllib3[secure,socks]~=1.26->selenium) (2021.10.8)\n",
      "Requirement already satisfied: six>=1.5.2 in c:\\programdata\\anaconda3\\lib\\site-packages (from pyOpenSSL>=0.14->urllib3[secure,socks]~=1.26->selenium) (1.16.0)\n",
      "Requirement already satisfied: h11<1,>=0.9.0 in c:\\programdata\\anaconda3\\lib\\site-packages (from wsproto>=0.14->trio-websocket~=0.9->selenium) (0.13.0)\n"
     ]
    }
   ],
   "source": [
    "!pip install selenium"
   ]
  },
  {
   "cell_type": "code",
   "execution_count": null,
   "id": "5e3beb45",
   "metadata": {},
   "outputs": [],
   "source": [
    "Q-5 Scraping iphone"
   ]
  },
  {
   "cell_type": "code",
   "execution_count": 4,
   "id": "e252b225",
   "metadata": {},
   "outputs": [],
   "source": [
    "import selenium # to use selenium library\n",
    "import pandas as pd # install pandas library for DataFrame\n",
    "from selenium import webdriver # to open with automated chrome window\n",
    "import warnings \n",
    "warnings.filterwarnings('ignore') # to ingnore any sort of warnings\n",
    "import time # use to stop search engine for few seconds"
   ]
  },
  {
   "cell_type": "code",
   "execution_count": 8,
   "id": "2b235f4d",
   "metadata": {},
   "outputs": [],
   "source": [
    "# lets first connect to the web driver\n",
    "driver=webdriver.Chrome(r\"C:\\Users\\Vikash_info\\chromedriver.exe\")"
   ]
  },
  {
   "cell_type": "code",
   "execution_count": 9,
   "id": "6476b725",
   "metadata": {},
   "outputs": [],
   "source": [
    "driver=webdriver.Chrome(\"chromedriver.exe\")\n",
    "time.sleep(2)"
   ]
  },
  {
   "cell_type": "code",
   "execution_count": 10,
   "id": "c7e4c265",
   "metadata": {},
   "outputs": [],
   "source": [
    "#scarping up flipcart.com on automated web driver\n",
    "driver.get(\"https://www.flipkart.com/apple-iphone-11-black-64-gb-includes-earpods-power-adapter/product-reviews/itm0f37c2240b217?pid=MOBFKCTSVZAXUHGR&lid=LSTMOBFKCTSVZAXUHGREPBFGI&marketplace=FLIPKART\")"
   ]
  },
  {
   "cell_type": "code",
   "execution_count": 11,
   "id": "e1ac2ca4",
   "metadata": {},
   "outputs": [],
   "source": [
    "urls=[]\n",
    "short_review=[]\n",
    "complete_review=[]\n",
    "stars=[]\n"
   ]
  },
  {
   "cell_type": "code",
   "execution_count": 12,
   "id": "632da412",
   "metadata": {},
   "outputs": [],
   "source": [
    "#scraping 10 pages url\n",
    "url_1 = driver.find_elements_by_xpath(\"//a[@class='ge-49M _2Kfbh8']\")\n",
    "for i in url_1:\n",
    "    urls.append(i.get_attribute('href'))\n",
    "    \n",
    "url_2 = driver.find_elements_by_xpath(\"//a[@class='ge-49M']\")\n",
    "for i in url_2:\n",
    "    urls.append(i.get_attribute('href'))\n",
    "time.sleep(4)\n"
   ]
  },
  {
   "cell_type": "code",
   "execution_count": 13,
   "id": "562c204f",
   "metadata": {},
   "outputs": [],
   "source": [
    "for i in urls:\n",
    "    driver.get(i)\n",
    "    #for scrapping the number of stars\n",
    "    for j in driver.find_elements_by_xpath(\"//div[@class='col _2wzgFH K0kLPL']/div[1]/div[1]\"):\n",
    "        stars.append(j.text)\n",
    "    #for scrapping the short review\n",
    "    for k in driver.find_elements_by_xpath(\"//p[@class='_2-N8zT']\"):\n",
    "        short_review.append(k.text)\n",
    "    #for scrapping the complete review\n",
    "    for l in driver.find_elements_by_xpath(\"//div[@class='t-ZTKy']/div/div\"):\n",
    "        complete_review.append(l.text)   "
   ]
  },
  {
   "cell_type": "code",
   "execution_count": 14,
   "id": "12baa8f2",
   "metadata": {},
   "outputs": [
    {
     "name": "stdout",
     "output_type": "stream",
     "text": [
      "100 100 100\n"
     ]
    }
   ],
   "source": [
    "print(len(short_review),len(complete_review),len(stars)) #checking len"
   ]
  },
  {
   "cell_type": "code",
   "execution_count": 15,
   "id": "c1b20e62",
   "metadata": {},
   "outputs": [
    {
     "data": {
      "text/html": [
       "<div>\n",
       "<style scoped>\n",
       "    .dataframe tbody tr th:only-of-type {\n",
       "        vertical-align: middle;\n",
       "    }\n",
       "\n",
       "    .dataframe tbody tr th {\n",
       "        vertical-align: top;\n",
       "    }\n",
       "\n",
       "    .dataframe thead th {\n",
       "        text-align: right;\n",
       "    }\n",
       "</style>\n",
       "<table border=\"1\" class=\"dataframe\">\n",
       "  <thead>\n",
       "    <tr style=\"text-align: right;\">\n",
       "      <th></th>\n",
       "      <th>Stars</th>\n",
       "      <th>Short_review</th>\n",
       "      <th>Complete_review</th>\n",
       "    </tr>\n",
       "  </thead>\n",
       "  <tbody>\n",
       "    <tr>\n",
       "      <th>0</th>\n",
       "      <td>5</td>\n",
       "      <td>Simply awesome</td>\n",
       "      <td>Really satisfied with the Product I received.....</td>\n",
       "    </tr>\n",
       "    <tr>\n",
       "      <th>1</th>\n",
       "      <td>5</td>\n",
       "      <td>Perfect product!</td>\n",
       "      <td>Amazing phone with great cameras and better ba...</td>\n",
       "    </tr>\n",
       "    <tr>\n",
       "      <th>2</th>\n",
       "      <td>5</td>\n",
       "      <td>Best in the market!</td>\n",
       "      <td>Great iPhone very snappy experience as apple k...</td>\n",
       "    </tr>\n",
       "    <tr>\n",
       "      <th>3</th>\n",
       "      <td>5</td>\n",
       "      <td>Highly recommended</td>\n",
       "      <td>What a camera .....just awesome ..you can feel...</td>\n",
       "    </tr>\n",
       "    <tr>\n",
       "      <th>4</th>\n",
       "      <td>5</td>\n",
       "      <td>Worth every penny</td>\n",
       "      <td>Previously I was using one plus 3t it was a gr...</td>\n",
       "    </tr>\n",
       "    <tr>\n",
       "      <th>...</th>\n",
       "      <td>...</td>\n",
       "      <td>...</td>\n",
       "      <td>...</td>\n",
       "    </tr>\n",
       "    <tr>\n",
       "      <th>95</th>\n",
       "      <td>5</td>\n",
       "      <td>Super!</td>\n",
       "      <td>This is my first ever iPhone.\\nAnd I truly don...</td>\n",
       "    </tr>\n",
       "    <tr>\n",
       "      <th>96</th>\n",
       "      <td>5</td>\n",
       "      <td>Wonderful</td>\n",
       "      <td>Nice value for money good and best price I pho...</td>\n",
       "    </tr>\n",
       "    <tr>\n",
       "      <th>97</th>\n",
       "      <td>5</td>\n",
       "      <td>Best in the market!</td>\n",
       "      <td>Don’t expect much from front camera… especiall...</td>\n",
       "    </tr>\n",
       "    <tr>\n",
       "      <th>98</th>\n",
       "      <td>5</td>\n",
       "      <td>Mind-blowing purchase</td>\n",
       "      <td>Absolutely powerful gadget. Loved it’s look! S...</td>\n",
       "    </tr>\n",
       "    <tr>\n",
       "      <th>99</th>\n",
       "      <td>5</td>\n",
       "      <td>Worth every penny</td>\n",
       "      <td>Undoubtedly Iphone 11 is the most successful m...</td>\n",
       "    </tr>\n",
       "  </tbody>\n",
       "</table>\n",
       "<p>100 rows × 3 columns</p>\n",
       "</div>"
      ],
      "text/plain": [
       "   Stars           Short_review  \\\n",
       "0      5         Simply awesome   \n",
       "1      5       Perfect product!   \n",
       "2      5    Best in the market!   \n",
       "3      5     Highly recommended   \n",
       "4      5      Worth every penny   \n",
       "..   ...                    ...   \n",
       "95     5                 Super!   \n",
       "96     5              Wonderful   \n",
       "97     5    Best in the market!   \n",
       "98     5  Mind-blowing purchase   \n",
       "99     5      Worth every penny   \n",
       "\n",
       "                                      Complete_review  \n",
       "0   Really satisfied with the Product I received.....  \n",
       "1   Amazing phone with great cameras and better ba...  \n",
       "2   Great iPhone very snappy experience as apple k...  \n",
       "3   What a camera .....just awesome ..you can feel...  \n",
       "4   Previously I was using one plus 3t it was a gr...  \n",
       "..                                                ...  \n",
       "95  This is my first ever iPhone.\\nAnd I truly don...  \n",
       "96  Nice value for money good and best price I pho...  \n",
       "97  Don’t expect much from front camera… especiall...  \n",
       "98  Absolutely powerful gadget. Loved it’s look! S...  \n",
       "99  Undoubtedly Iphone 11 is the most successful m...  \n",
       "\n",
       "[100 rows x 3 columns]"
      ]
     },
     "execution_count": 15,
     "metadata": {},
     "output_type": "execute_result"
    }
   ],
   "source": [
    "#made Data Frame from import pandas as pd\n",
    "df=pd.DataFrame({'Stars':stars,'Short_review':short_review,'Complete_review':complete_review})\n",
    "df"
   ]
  },
  {
   "cell_type": "code",
   "execution_count": null,
   "id": "58c4f830",
   "metadata": {},
   "outputs": [],
   "source": [
    "# Q-6 Scraping Sneakers"
   ]
  },
  {
   "cell_type": "code",
   "execution_count": 15,
   "id": "780dbb71",
   "metadata": {},
   "outputs": [],
   "source": [
    "# lets first connect to the web driver\n",
    "driver=webdriver.Chrome(r\"C:\\Users\\Vikash_info\\chromedriver.exe\")"
   ]
  },
  {
   "cell_type": "code",
   "execution_count": 16,
   "id": "482591b4",
   "metadata": {},
   "outputs": [],
   "source": [
    "driver=webdriver.Chrome(\"chromedriver.exe\")\n",
    "time.sleep(2)"
   ]
  },
  {
   "cell_type": "code",
   "execution_count": 17,
   "id": "46273842",
   "metadata": {},
   "outputs": [],
   "source": [
    "#scarping up flipcart.com on automated web driver\n",
    "driver.get(\" https://www.flipkart.com/\")"
   ]
  },
  {
   "cell_type": "code",
   "execution_count": 18,
   "id": "06fa7bdd",
   "metadata": {},
   "outputs": [],
   "source": [
    "# finding element product search for\n",
    "sneakers=driver.find_element(By.CLASS_NAME,\"_3704LK\")\n",
    "sneakers.send_keys(\"sneakers\")\n",
    "\n",
    "search=driver.find_element(By.CLASS_NAME,\"L0Z3Pu\")\n",
    "search.click()\n"
   ]
  },
  {
   "cell_type": "code",
   "execution_count": 19,
   "id": "a013f74e",
   "metadata": {},
   "outputs": [],
   "source": [
    "brand=[] #creat empty list\n",
    "start=0\n",
    "end=3\n",
    "\n",
    "for page in range(0,3): #given range for page\n",
    "    brands=driver.find_elements(By.CLASS_NAME,\"_2WkVRV\") #scraping brand from the xpath\n",
    "    \n",
    "    for i in brands:\n",
    "        brand.append(i.text) #extracting text from web each element\n"
   ]
  },
  {
   "cell_type": "code",
   "execution_count": 20,
   "id": "f7a00d1b",
   "metadata": {},
   "outputs": [],
   "source": [
    "desc=[] #creat empty list\n",
    "start=0\n",
    "end=3\n",
    "\n",
    "for page in range(0,3): #given range for page\n",
    "    descs=driver.find_elements(By.XPATH,'//a[@class=\"IRpwTa\" or @class=\"IRpwTa _2-ICcC\"]')#scraping description from the xpath\n",
    "\n",
    "    for i in descs:\n",
    "        desc.append(i.text) #extracting text from web each element"
   ]
  },
  {
   "cell_type": "code",
   "execution_count": 21,
   "id": "69e6ca15",
   "metadata": {},
   "outputs": [],
   "source": [
    "price=[] #creat empty list\n",
    "start=0\n",
    "end=3 \n",
    "for page in range(0,3): #given range for page\n",
    "    prices=driver.find_elements(By.XPATH,\"//div[@class='_30jeq3']\")#scraping price from the xpath\n",
    "    \n",
    "    for i in prices:\n",
    "        price.append(i.text) #extracting text from web each element\n",
    "    "
   ]
  },
  {
   "cell_type": "code",
   "execution_count": 22,
   "id": "fb1f8075",
   "metadata": {},
   "outputs": [
    {
     "name": "stdout",
     "output_type": "stream",
     "text": [
      "120 120 120\n"
     ]
    }
   ],
   "source": [
    "print(len(brand),len(desc),len(price)) #checking len"
   ]
  },
  {
   "cell_type": "code",
   "execution_count": 23,
   "id": "17888810",
   "metadata": {},
   "outputs": [
    {
     "data": {
      "text/html": [
       "<div>\n",
       "<style scoped>\n",
       "    .dataframe tbody tr th:only-of-type {\n",
       "        vertical-align: middle;\n",
       "    }\n",
       "\n",
       "    .dataframe tbody tr th {\n",
       "        vertical-align: top;\n",
       "    }\n",
       "\n",
       "    .dataframe thead th {\n",
       "        text-align: right;\n",
       "    }\n",
       "</style>\n",
       "<table border=\"1\" class=\"dataframe\">\n",
       "  <thead>\n",
       "    <tr style=\"text-align: right;\">\n",
       "      <th></th>\n",
       "      <th>Brand</th>\n",
       "      <th>Desc</th>\n",
       "      <th>Price</th>\n",
       "    </tr>\n",
       "  </thead>\n",
       "  <tbody>\n",
       "    <tr>\n",
       "      <th>0</th>\n",
       "      <td>Favshoe</td>\n",
       "      <td>Stylish, Walking ,Running &amp; Good Looking Sneak...</td>\n",
       "      <td>₹509</td>\n",
       "    </tr>\n",
       "    <tr>\n",
       "      <th>1</th>\n",
       "      <td>RapidBox</td>\n",
       "      <td>Stylish &amp; Trendy Sneakers For Men</td>\n",
       "      <td>₹590</td>\n",
       "    </tr>\n",
       "    <tr>\n",
       "      <th>2</th>\n",
       "      <td>Magnolia</td>\n",
       "      <td>Sneakers For Men</td>\n",
       "      <td>₹374</td>\n",
       "    </tr>\n",
       "    <tr>\n",
       "      <th>3</th>\n",
       "      <td>PUMA</td>\n",
       "      <td>x KL Seattle Sneakers For Men</td>\n",
       "      <td>₹2,159</td>\n",
       "    </tr>\n",
       "    <tr>\n",
       "      <th>4</th>\n",
       "      <td>PUMA</td>\n",
       "      <td>RBR Electron E Pro Sneakers For Men</td>\n",
       "      <td>₹3,119</td>\n",
       "    </tr>\n",
       "    <tr>\n",
       "      <th>...</th>\n",
       "      <td>...</td>\n",
       "      <td>...</td>\n",
       "      <td>...</td>\n",
       "    </tr>\n",
       "    <tr>\n",
       "      <th>115</th>\n",
       "      <td>RapidBox</td>\n",
       "      <td>Sneakers For Men</td>\n",
       "      <td>₹650</td>\n",
       "    </tr>\n",
       "    <tr>\n",
       "      <th>116</th>\n",
       "      <td>HOTSTYLE</td>\n",
       "      <td>Sneakers For Men</td>\n",
       "      <td>₹268</td>\n",
       "    </tr>\n",
       "    <tr>\n",
       "      <th>117</th>\n",
       "      <td>RED TAPE</td>\n",
       "      <td>Sneakers For Men</td>\n",
       "      <td>₹1,249</td>\n",
       "    </tr>\n",
       "    <tr>\n",
       "      <th>118</th>\n",
       "      <td>SCATCHITE</td>\n",
       "      <td>Sneakers Sneakers For Men</td>\n",
       "      <td>₹360</td>\n",
       "    </tr>\n",
       "    <tr>\n",
       "      <th>119</th>\n",
       "      <td>FAMONIA</td>\n",
       "      <td>Stylish Sneakers For Men</td>\n",
       "      <td>₹499</td>\n",
       "    </tr>\n",
       "  </tbody>\n",
       "</table>\n",
       "<p>120 rows × 3 columns</p>\n",
       "</div>"
      ],
      "text/plain": [
       "         Brand                                               Desc   Price\n",
       "0      Favshoe  Stylish, Walking ,Running & Good Looking Sneak...    ₹509\n",
       "1     RapidBox                  Stylish & Trendy Sneakers For Men    ₹590\n",
       "2     Magnolia                                   Sneakers For Men    ₹374\n",
       "3         PUMA                      x KL Seattle Sneakers For Men  ₹2,159\n",
       "4         PUMA                RBR Electron E Pro Sneakers For Men  ₹3,119\n",
       "..         ...                                                ...     ...\n",
       "115   RapidBox                                   Sneakers For Men    ₹650\n",
       "116   HOTSTYLE                                   Sneakers For Men    ₹268\n",
       "117   RED TAPE                                   Sneakers For Men  ₹1,249\n",
       "118  SCATCHITE                          Sneakers Sneakers For Men    ₹360\n",
       "119    FAMONIA                           Stylish Sneakers For Men    ₹499\n",
       "\n",
       "[120 rows x 3 columns]"
      ]
     },
     "execution_count": 23,
     "metadata": {},
     "output_type": "execute_result"
    }
   ],
   "source": [
    "#make a Data Frame from import pandas as pd\n",
    "snkr=pd.DataFrame({'Brand':brand,'Desc':desc,'Price':price})\n",
    "snkr"
   ]
  },
  {
   "cell_type": "code",
   "execution_count": 24,
   "id": "5e21ec4e",
   "metadata": {},
   "outputs": [],
   "source": [
    "# Question-8 Amazon top 10 laptop scraping"
   ]
  },
  {
   "cell_type": "code",
   "execution_count": 25,
   "id": "571e799f",
   "metadata": {},
   "outputs": [],
   "source": [
    "#lets connect to webdriver\n",
    "driver=webdriver.Chrome(r\"C:\\Users\\Vikash_info\\chromedriver.exe\")"
   ]
  },
  {
   "cell_type": "code",
   "execution_count": 26,
   "id": "d51f1aba",
   "metadata": {},
   "outputs": [],
   "source": [
    "driver=webdriver.Chrome(\"chromedriver.exe\")\n",
    "time.sleep(2)"
   ]
  },
  {
   "cell_type": "code",
   "execution_count": 27,
   "id": "5ba76bcf",
   "metadata": {},
   "outputs": [],
   "source": [
    "#scraping the amazon.com\n",
    "driver.get(\"https://www.amazon.in/\")"
   ]
  },
  {
   "cell_type": "code",
   "execution_count": 28,
   "id": "e877f9be",
   "metadata": {},
   "outputs": [],
   "source": [
    "# finding element product search for\n",
    "laptops=driver.find_element(By.XPATH,\"//div[@class='nav-search-field ']//input\")\n",
    "laptops.send_keys(\"laptop\")\n",
    "\n",
    "search=driver.find_element(By.XPATH,\" /html/body/div[1]/header/div/div[1]/div[2]/div/form/div[3]/div/span/input\") #using full xpath\n",
    "search.click()"
   ]
  },
  {
   "cell_type": "code",
   "execution_count": 29,
   "id": "4f9a3af1",
   "metadata": {},
   "outputs": [],
   "source": [
    "# create empty list\n",
    "titles_tag=[]\n",
    "rating_list=[]\n",
    "price_list=[]"
   ]
  },
  {
   "cell_type": "code",
   "execution_count": 30,
   "id": "c11d73e1",
   "metadata": {},
   "outputs": [],
   "source": [
    "# now let me extract all the tags having titles tags\n",
    "titles_tags=driver.find_elements(By.XPATH,\"//span[@class='a-size-medium a-color-base a-text-normal']\")\n",
    "titles_tags[0:10]               \n",
    "    \n",
    "\n",
    "for i in titles_tags[0:10]:\n",
    "    titles_tag.append(i.text) #extracting text from web each element"
   ]
  },
  {
   "cell_type": "code",
   "execution_count": 31,
   "id": "b2a47208",
   "metadata": {},
   "outputs": [],
   "source": [
    "# now let me extract all the tags having rating list\n",
    "ratings_lists=driver.find_elements(By.XPATH,\"//span[@class='a-icon-alt']\")\n",
    "ratings_lists[0:10]\n",
    "\n",
    "\n",
    "for i in ratings_lists[0:10]:\n",
    "    rating_list.append(i.text) #extracting text from web each element"
   ]
  },
  {
   "cell_type": "code",
   "execution_count": 32,
   "id": "aa923f16",
   "metadata": {},
   "outputs": [],
   "source": [
    "# now let me extract all the tags having price list\n",
    "prices_lists=driver.find_elements(By.XPATH,\"//span[@class='a-price-whole']\")\n",
    "prices_lists[0:10]\n",
    "\n",
    "for i in prices_lists[0:10]:\n",
    "    price_list.append(i.text) #extracting text from web each element"
   ]
  },
  {
   "cell_type": "code",
   "execution_count": 33,
   "id": "6ddf66fa",
   "metadata": {},
   "outputs": [
    {
     "name": "stdout",
     "output_type": "stream",
     "text": [
      "10 10 10\n"
     ]
    }
   ],
   "source": [
    "print(len(titles_tag),len(rating_list),len(price_list)) # checking len"
   ]
  },
  {
   "cell_type": "code",
   "execution_count": 34,
   "id": "d2a86176",
   "metadata": {},
   "outputs": [
    {
     "data": {
      "text/html": [
       "<div>\n",
       "<style scoped>\n",
       "    .dataframe tbody tr th:only-of-type {\n",
       "        vertical-align: middle;\n",
       "    }\n",
       "\n",
       "    .dataframe tbody tr th {\n",
       "        vertical-align: top;\n",
       "    }\n",
       "\n",
       "    .dataframe thead th {\n",
       "        text-align: right;\n",
       "    }\n",
       "</style>\n",
       "<table border=\"1\" class=\"dataframe\">\n",
       "  <thead>\n",
       "    <tr style=\"text-align: right;\">\n",
       "      <th></th>\n",
       "      <th>Titles_tag</th>\n",
       "      <th>Rating_list</th>\n",
       "      <th>Price_list</th>\n",
       "    </tr>\n",
       "  </thead>\n",
       "  <tbody>\n",
       "    <tr>\n",
       "      <th>0</th>\n",
       "      <td>Hp Pavilion X360 11Th Gen Intel Core I7 14 Inc...</td>\n",
       "      <td></td>\n",
       "      <td>82,420</td>\n",
       "    </tr>\n",
       "    <tr>\n",
       "      <th>1</th>\n",
       "      <td>HP Pavilion, 12th Gen Intel Core i7 16GB RAM/1...</td>\n",
       "      <td></td>\n",
       "      <td>89,990</td>\n",
       "    </tr>\n",
       "    <tr>\n",
       "      <th>2</th>\n",
       "      <td>ASUS Vivobook 15, 15.6-inch (39.62 cms) FHD, I...</td>\n",
       "      <td></td>\n",
       "      <td>56,690</td>\n",
       "    </tr>\n",
       "    <tr>\n",
       "      <th>3</th>\n",
       "      <td>Hp Pavilion 15 12Th Gen Intel Core I7 16Gb Sdr...</td>\n",
       "      <td></td>\n",
       "      <td>85,490</td>\n",
       "    </tr>\n",
       "    <tr>\n",
       "      <th>4</th>\n",
       "      <td>ASUS TUF Dash F15 (2022), 15.6-inch (39.62 cms...</td>\n",
       "      <td></td>\n",
       "      <td>1,64,990</td>\n",
       "    </tr>\n",
       "    <tr>\n",
       "      <th>5</th>\n",
       "      <td>ASUS TUF Gaming F15 (2021), 15.6\" (39.62 cms) ...</td>\n",
       "      <td></td>\n",
       "      <td>86,990</td>\n",
       "    </tr>\n",
       "    <tr>\n",
       "      <th>6</th>\n",
       "      <td>Lenovo ThinkBook 15 Intel 11th Gen Core i7 15....</td>\n",
       "      <td></td>\n",
       "      <td>76,492</td>\n",
       "    </tr>\n",
       "    <tr>\n",
       "      <th>7</th>\n",
       "      <td>ASUS TUF Gaming F15 (2022), 15.6-inch (39.62 c...</td>\n",
       "      <td></td>\n",
       "      <td>79,990</td>\n",
       "    </tr>\n",
       "    <tr>\n",
       "      <th>8</th>\n",
       "      <td>HP Envy 11th Gen Intel Evo Core i7 14 inch(35....</td>\n",
       "      <td></td>\n",
       "      <td>1,09,990</td>\n",
       "    </tr>\n",
       "    <tr>\n",
       "      <th>9</th>\n",
       "      <td>ASUS Vivobook S15 OLED (2022), 15.6\" (39.62 cm...</td>\n",
       "      <td></td>\n",
       "      <td>97,690</td>\n",
       "    </tr>\n",
       "  </tbody>\n",
       "</table>\n",
       "</div>"
      ],
      "text/plain": [
       "                                          Titles_tag Rating_list Price_list\n",
       "0  Hp Pavilion X360 11Th Gen Intel Core I7 14 Inc...                 82,420\n",
       "1  HP Pavilion, 12th Gen Intel Core i7 16GB RAM/1...                 89,990\n",
       "2  ASUS Vivobook 15, 15.6-inch (39.62 cms) FHD, I...                 56,690\n",
       "3  Hp Pavilion 15 12Th Gen Intel Core I7 16Gb Sdr...                 85,490\n",
       "4  ASUS TUF Dash F15 (2022), 15.6-inch (39.62 cms...               1,64,990\n",
       "5  ASUS TUF Gaming F15 (2021), 15.6\" (39.62 cms) ...                 86,990\n",
       "6  Lenovo ThinkBook 15 Intel 11th Gen Core i7 15....                 76,492\n",
       "7  ASUS TUF Gaming F15 (2022), 15.6-inch (39.62 c...                 79,990\n",
       "8  HP Envy 11th Gen Intel Evo Core i7 14 inch(35....               1,09,990\n",
       "9  ASUS Vivobook S15 OLED (2022), 15.6\" (39.62 cm...                 97,690"
      ]
     },
     "execution_count": 34,
     "metadata": {},
     "output_type": "execute_result"
    }
   ],
   "source": [
    "#make a Data Frame from import pandas as pd\n",
    "amzn=pd.DataFrame({'Titles_tag':titles_tag,'Rating_list':rating_list,'Price_list':price_list})\n",
    "amzn"
   ]
  },
  {
   "cell_type": "code",
   "execution_count": null,
   "id": "a8c2e6ef",
   "metadata": {},
   "outputs": [],
   "source": [
    "#Question no -10 ,Scraping ambitionbox.com whatever is given for "
   ]
  },
  {
   "cell_type": "code",
   "execution_count": 1,
   "id": "9d5029e0",
   "metadata": {},
   "outputs": [
    {
     "name": "stdout",
     "output_type": "stream",
     "text": [
      "Requirement already satisfied: selenium in c:\\programdata\\anaconda3\\lib\\site-packages (4.2.0)\n",
      "Requirement already satisfied: trio-websocket~=0.9 in c:\\programdata\\anaconda3\\lib\\site-packages (from selenium) (0.9.2)\n",
      "Requirement already satisfied: trio~=0.17 in c:\\programdata\\anaconda3\\lib\\site-packages (from selenium) (0.21.0)\n",
      "Requirement already satisfied: urllib3[secure,socks]~=1.26 in c:\\programdata\\anaconda3\\lib\\site-packages (from selenium) (1.26.7)\n",
      "Requirement already satisfied: sniffio in c:\\programdata\\anaconda3\\lib\\site-packages (from trio~=0.17->selenium) (1.2.0)\n",
      "Requirement already satisfied: sortedcontainers in c:\\programdata\\anaconda3\\lib\\site-packages (from trio~=0.17->selenium) (2.4.0)\n",
      "Requirement already satisfied: idna in c:\\programdata\\anaconda3\\lib\\site-packages (from trio~=0.17->selenium) (3.2)\n",
      "Requirement already satisfied: cffi>=1.14 in c:\\programdata\\anaconda3\\lib\\site-packages (from trio~=0.17->selenium) (1.14.6)\n",
      "Requirement already satisfied: async-generator>=1.9 in c:\\programdata\\anaconda3\\lib\\site-packages (from trio~=0.17->selenium) (1.10)\n",
      "Requirement already satisfied: outcome in c:\\programdata\\anaconda3\\lib\\site-packages (from trio~=0.17->selenium) (1.2.0)\n",
      "Requirement already satisfied: attrs>=19.2.0 in c:\\programdata\\anaconda3\\lib\\site-packages (from trio~=0.17->selenium) (21.2.0)\n",
      "Requirement already satisfied: pycparser in c:\\programdata\\anaconda3\\lib\\site-packages (from cffi>=1.14->trio~=0.17->selenium) (2.20)\n",
      "Requirement already satisfied: wsproto>=0.14 in c:\\programdata\\anaconda3\\lib\\site-packages (from trio-websocket~=0.9->selenium) (1.1.0)\n",
      "Requirement already satisfied: pyOpenSSL>=0.14 in c:\\programdata\\anaconda3\\lib\\site-packages (from urllib3[secure,socks]~=1.26->selenium) (21.0.0)\n",
      "Requirement already satisfied: cryptography>=1.3.4 in c:\\programdata\\anaconda3\\lib\\site-packages (from urllib3[secure,socks]~=1.26->selenium) (3.4.8)\n",
      "Requirement already satisfied: certifi in c:\\programdata\\anaconda3\\lib\\site-packages (from urllib3[secure,socks]~=1.26->selenium) (2021.10.8)\n",
      "Requirement already satisfied: PySocks!=1.5.7,<2.0,>=1.5.6 in c:\\programdata\\anaconda3\\lib\\site-packages (from urllib3[secure,socks]~=1.26->selenium) (1.7.1)\n",
      "Requirement already satisfied: six>=1.5.2 in c:\\programdata\\anaconda3\\lib\\site-packages (from pyOpenSSL>=0.14->urllib3[secure,socks]~=1.26->selenium) (1.16.0)\n",
      "Requirement already satisfied: h11<1,>=0.9.0 in c:\\programdata\\anaconda3\\lib\\site-packages (from wsproto>=0.14->trio-websocket~=0.9->selenium) (0.13.0)\n"
     ]
    }
   ],
   "source": [
    "!pip install selenium"
   ]
  },
  {
   "cell_type": "code",
   "execution_count": 2,
   "id": "de84a425",
   "metadata": {},
   "outputs": [],
   "source": [
    "import selenium   # to use selenium library\n",
    "import time # use to stop search engine for few seconds\n",
    "from selenium import webdriver  # to open with automated chrome window\n",
    "import pandas as pd   # install pandas library for DataFrame\n",
    "from selenium.webdriver.common.by import By \n",
    "import warnings\n",
    "warnings.filterwarnings('ignore') # to ingnore any sort of warnings"
   ]
  },
  {
   "cell_type": "code",
   "execution_count": 3,
   "id": "63d6951e",
   "metadata": {},
   "outputs": [],
   "source": [
    "# lets first connect to the web driver\n",
    "driver=webdriver.Chrome(r\"C:\\Users\\Vikash_info\\chromedriver.exe\")"
   ]
  },
  {
   "cell_type": "code",
   "execution_count": 4,
   "id": "a1a2c156",
   "metadata": {},
   "outputs": [],
   "source": [
    "driver=webdriver.Chrome('chromedriver.exe')\n",
    "time.sleep(2)"
   ]
  },
  {
   "cell_type": "code",
   "execution_count": 5,
   "id": "4553bd1c",
   "metadata": {},
   "outputs": [],
   "source": [
    "#scarping up naukri.com on automated web drive\n",
    "driver.get(\"https://www.ambitionbox.com/\")"
   ]
  },
  {
   "cell_type": "code",
   "execution_count": 6,
   "id": "86fe91bb",
   "metadata": {},
   "outputs": [],
   "source": [
    "# finding element job search for\n",
    "search_field_designation=driver.find_element(By.XPATH,\"/html/body/section[1]/div/div/div/div[2]/form/span/input\") #job search for\n",
    "search_field_designation.send_keys('Data Scientist')"
   ]
  },
  {
   "cell_type": "code",
   "execution_count": 7,
   "id": "49d8fcbf",
   "metadata": {},
   "outputs": [],
   "source": [
    "search_button=driver.find_element(By.XPATH,\"/html/body/section[1]/div/div/div/div[2]/form/div[2]\")\n",
    "search_button.click()"
   ]
  },
  {
   "cell_type": "code",
   "execution_count": 8,
   "id": "ca021a6b",
   "metadata": {},
   "outputs": [],
   "source": [
    "#crate empty list\n",
    "company_name=[]\n",
    "experience_list=[]\n",
    "total_salary=[]\n",
    "avg_salary=[]\n",
    "min_salary=[]\n",
    "max_salary=[]"
   ]
  },
  {
   "cell_type": "code",
   "execution_count": 9,
   "id": "82bcf843",
   "metadata": {},
   "outputs": [],
   "source": [
    "#lets scrpae ambition.com having company names\n",
    "company_names=driver.find_elements(By.XPATH,\"//div[@class='name']\")\n",
    "\n",
    "for i in company_names: #iterating over web element of company title\n",
    "    company_name.append(i.text) # appending each extected text into empty list"
   ]
  },
  {
   "cell_type": "code",
   "execution_count": 10,
   "id": "5280bdd0",
   "metadata": {},
   "outputs": [],
   "source": [
    "#lets scrpae ambition.com having experience list\n",
    "experience_lists=driver.find_elements(By.XPATH,\"//div[@class='sbold-list-header']/span[1]\")\n",
    "\n",
    "for i in experience_lists: #iterating over web element of experience list\n",
    "    experience_list.append(i.text) # appending each extected text into empty list"
   ]
  },
  {
   "cell_type": "code",
   "execution_count": 11,
   "id": "f69e1a72",
   "metadata": {},
   "outputs": [],
   "source": [
    "#lets scrpae ambition.com having total salary\n",
    "total_salaries=driver.find_elements(By.XPATH,\"//span[@class='salary-datapoints']\")\n",
    "\n",
    "for i in total_salaries: #iterating over web element of total salary\n",
    "    total_salary.append(i.text) # appending each extected text into empty list"
   ]
  },
  {
   "cell_type": "code",
   "execution_count": 12,
   "id": "e857a5f2",
   "metadata": {},
   "outputs": [],
   "source": [
    "#lets scrpae ambition.com having average salary\n",
    "Average = driver.find_elements_by_xpath(\"//p[@class='averageCtc']\")\n",
    "\n",
    "for i in Average[0:10]: #iterating over web element of avg salary\n",
    "\n",
    "    avg_salary.append(i.text) # appending each extected text into empty list"
   ]
  },
  {
   "cell_type": "code",
   "execution_count": 13,
   "id": "0c5b1213",
   "metadata": {},
   "outputs": [],
   "source": [
    "#lets scrpae ambition.com having minimum salary\n",
    "min_salaries=driver.find_elements_by_xpath(\"//div[@class='salary-values']/div[1] \")\n",
    "\n",
    "for i in min_salaries[0:10]: #iterating over web element of min salary\n",
    "    min_salary.append(i.text) # appending each extected text into empty list\n",
    "    "
   ]
  },
  {
   "cell_type": "code",
   "execution_count": 14,
   "id": "dc6c7f86",
   "metadata": {},
   "outputs": [],
   "source": [
    "#lets scrpae ambition.com having maximum salary\n",
    "max_salaries=driver.find_elements_by_xpath(\"//div[@class='salary-values']/div[2]\")\n",
    "\n",
    "for i in max_salaries[0:10]: #iterating over web element of max salary\n",
    "    max_salary.append(i.text) # appending each extected text into empty list\n",
    "    "
   ]
  },
  {
   "cell_type": "code",
   "execution_count": 15,
   "id": "d393afd8",
   "metadata": {},
   "outputs": [
    {
     "data": {
      "text/html": [
       "<div>\n",
       "<style scoped>\n",
       "    .dataframe tbody tr th:only-of-type {\n",
       "        vertical-align: middle;\n",
       "    }\n",
       "\n",
       "    .dataframe tbody tr th {\n",
       "        vertical-align: top;\n",
       "    }\n",
       "\n",
       "    .dataframe thead th {\n",
       "        text-align: right;\n",
       "    }\n",
       "</style>\n",
       "<table border=\"1\" class=\"dataframe\">\n",
       "  <thead>\n",
       "    <tr style=\"text-align: right;\">\n",
       "      <th></th>\n",
       "      <th>Company_name</th>\n",
       "      <th>Experience_list</th>\n",
       "      <th>Avg_salary</th>\n",
       "      <th>Min_salary</th>\n",
       "      <th>Max_salary</th>\n",
       "    </tr>\n",
       "  </thead>\n",
       "  <tbody>\n",
       "    <tr>\n",
       "      <th>0</th>\n",
       "      <td>TCS\\nData Scientist Salary</td>\n",
       "      <td>2-9 yrs exp</td>\n",
       "      <td>₹ 7.0L</td>\n",
       "      <td>₹ 3.2L</td>\n",
       "      <td>₹ 16.0L</td>\n",
       "    </tr>\n",
       "    <tr>\n",
       "      <th>1</th>\n",
       "      <td>Accenture\\nData Scientist Salary</td>\n",
       "      <td>2-9 yrs exp</td>\n",
       "      <td>₹ 20.5L</td>\n",
       "      <td>₹ 9.5L</td>\n",
       "      <td>₹ 40.9L</td>\n",
       "    </tr>\n",
       "    <tr>\n",
       "      <th>2</th>\n",
       "      <td>IBM\\nData Scientist Salary</td>\n",
       "      <td>2-11 yrs exp</td>\n",
       "      <td>₹ 6.9L</td>\n",
       "      <td>₹ 3.1L</td>\n",
       "      <td>₹ 18.6L</td>\n",
       "    </tr>\n",
       "    <tr>\n",
       "      <th>3</th>\n",
       "      <td>Cognizant\\nData Scientist Salary</td>\n",
       "      <td>2-10 yrs exp</td>\n",
       "      <td></td>\n",
       "      <td></td>\n",
       "      <td></td>\n",
       "    </tr>\n",
       "    <tr>\n",
       "      <th>4</th>\n",
       "      <td>Capgemini\\nData Scientist Salary</td>\n",
       "      <td>2-8 yrs exp</td>\n",
       "      <td></td>\n",
       "      <td></td>\n",
       "      <td></td>\n",
       "    </tr>\n",
       "    <tr>\n",
       "      <th>5</th>\n",
       "      <td>Infosys\\nData Scientist Salary</td>\n",
       "      <td>2-7 yrs exp</td>\n",
       "      <td></td>\n",
       "      <td></td>\n",
       "      <td></td>\n",
       "    </tr>\n",
       "    <tr>\n",
       "      <th>6</th>\n",
       "      <td>Tech Mahindra\\nData Scientist Salary</td>\n",
       "      <td>2-12 yrs exp</td>\n",
       "      <td></td>\n",
       "      <td></td>\n",
       "      <td></td>\n",
       "    </tr>\n",
       "    <tr>\n",
       "      <th>7</th>\n",
       "      <td>Wipro\\nData Scientist Salary</td>\n",
       "      <td>2-9 yrs exp</td>\n",
       "      <td></td>\n",
       "      <td></td>\n",
       "      <td></td>\n",
       "    </tr>\n",
       "    <tr>\n",
       "      <th>8</th>\n",
       "      <td>Deloitte\\nData Scientist Salary</td>\n",
       "      <td>2-7 yrs exp</td>\n",
       "      <td></td>\n",
       "      <td></td>\n",
       "      <td></td>\n",
       "    </tr>\n",
       "    <tr>\n",
       "      <th>9</th>\n",
       "      <td>Ericsson\\nData Scientist Salary</td>\n",
       "      <td>2-12 yrs exp</td>\n",
       "      <td>₹ 7.4L</td>\n",
       "      <td>₹ 4.4L</td>\n",
       "      <td>₹ 15.0L</td>\n",
       "    </tr>\n",
       "  </tbody>\n",
       "</table>\n",
       "</div>"
      ],
      "text/plain": [
       "                           Company_name Experience_list Avg_salary Min_salary  \\\n",
       "0            TCS\\nData Scientist Salary     2-9 yrs exp     ₹ 7.0L     ₹ 3.2L   \n",
       "1      Accenture\\nData Scientist Salary     2-9 yrs exp    ₹ 20.5L     ₹ 9.5L   \n",
       "2            IBM\\nData Scientist Salary    2-11 yrs exp     ₹ 6.9L     ₹ 3.1L   \n",
       "3      Cognizant\\nData Scientist Salary    2-10 yrs exp                         \n",
       "4      Capgemini\\nData Scientist Salary     2-8 yrs exp                         \n",
       "5        Infosys\\nData Scientist Salary     2-7 yrs exp                         \n",
       "6  Tech Mahindra\\nData Scientist Salary    2-12 yrs exp                         \n",
       "7          Wipro\\nData Scientist Salary     2-9 yrs exp                         \n",
       "8       Deloitte\\nData Scientist Salary     2-7 yrs exp                         \n",
       "9       Ericsson\\nData Scientist Salary    2-12 yrs exp     ₹ 7.4L     ₹ 4.4L   \n",
       "\n",
       "  Max_salary  \n",
       "0    ₹ 16.0L  \n",
       "1    ₹ 40.9L  \n",
       "2    ₹ 18.6L  \n",
       "3             \n",
       "4             \n",
       "5             \n",
       "6             \n",
       "7             \n",
       "8             \n",
       "9    ₹ 15.0L  "
      ]
     },
     "execution_count": 15,
     "metadata": {},
     "output_type": "execute_result"
    }
   ],
   "source": [
    "#create Data Frame using library import pandas as pd\n",
    "ambox=pd.DataFrame({'Company_name':company_name,'Experience_list':experience_list,\n",
    "                   'Avg_salary':avg_salary,'Min_salary':min_salary,'Max_salary':max_salary})\n",
    "ambox"
   ]
  },
  {
   "cell_type": "code",
   "execution_count": null,
   "id": "23687955",
   "metadata": {},
   "outputs": [],
   "source": []
  }
 ],
 "metadata": {
  "kernelspec": {
   "display_name": "Python 3 (ipykernel)",
   "language": "python",
   "name": "python3"
  },
  "language_info": {
   "codemirror_mode": {
    "name": "ipython",
    "version": 3
   },
   "file_extension": ".py",
   "mimetype": "text/x-python",
   "name": "python",
   "nbconvert_exporter": "python",
   "pygments_lexer": "ipython3",
   "version": "3.9.7"
  }
 },
 "nbformat": 4,
 "nbformat_minor": 5
}
